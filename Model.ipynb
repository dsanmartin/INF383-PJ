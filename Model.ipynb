{
 "cells": [
  {
   "cell_type": "markdown",
   "metadata": {},
   "source": [
    "# Forest Fire Spreading \n",
    "\n",
    "\n",
    "## Background\n",
    "\n",
    "Wildfires are one of the most harmful phenomena in Chile burning thousands of forest hectares every year destroying significant flora and fauna, and affecting the air, water cycles, and the ecosystem. Wildfires start by varied reasons, ranging from reckless human behavior to extreme weather and environmental conditions\n",
    "\n",
    "## Main Goal\n",
    "\n",
    "Build a mathematical model based on SPDE qualitatively realistic with the phenomenon behaviour. \n",
    "\n",
    "## Objectives\n",
    "1. Start with an agent based model, working with the weather conditions and initial fires focus. \n",
    "2. Get a continuous model based on SPDE from the ABM.\n",
    "3. Assess wind relevance to the model."
   ]
  },
  {
   "cell_type": "code",
   "execution_count": 1,
   "metadata": {
    "collapsed": true
   },
   "outputs": [],
   "source": [
    "import firemodels.cellularautomata as ca\n",
    "import firemodels.cellularautomatalayers as cal\n",
    "import numpy as np\n",
    "import matplotlib.pyplot as plt\n",
    "import ipywidgets as widgets\n",
    "from sklearn.preprocessing import MinMaxScaler"
   ]
  },
  {
   "cell_type": "code",
   "execution_count": 2,
   "metadata": {
    "collapsed": true
   },
   "outputs": [],
   "source": [
    "def fireFocus(M, N, i, j, size):\n",
    "    focus = np.zeros((M, N))\n",
    "    focus[i-size:i+size, j-size:j+size] = np.ones((2*size, 2*size)) \n",
    "    return focus"
   ]
  },
  {
   "cell_type": "code",
   "execution_count": 3,
   "metadata": {
    "collapsed": true
   },
   "outputs": [],
   "source": [
    "def plotStates(t=0):\n",
    "    play = widgets.Play(\n",
    "        value=0,\n",
    "        min=0,\n",
    "        max=len(states)-1,\n",
    "        step=1,\n",
    "        description=\"Press play\",\n",
    "        disabled=False\n",
    "    )\n",
    "    slider = widgets.IntSlider()\n",
    "    widgets.jslink((play, 'value'), (slider, 'value'))\n",
    "    widgets.HBox([play, slider])\n",
    "    widgets.interact(automata.plotStates, t=play)"
   ]
  },
  {
   "cell_type": "code",
   "execution_count": null,
   "metadata": {
    "collapsed": true
   },
   "outputs": [],
   "source": [
    "# Testing\n",
    "M = 101\n",
    "N = 101\n",
    "initial = fireFocus(M, N, 50, 50, 2)\n",
    "rule = .35\n",
    "#neighborhood = 'vonneumann'\n",
    "neighborhood = 'moore'\n",
    "times = 100"
   ]
  },
  {
   "cell_type": "code",
   "execution_count": null,
   "metadata": {
    "collapsed": true
   },
   "outputs": [],
   "source": [
    "automata = ca.new(M, N, initial, rule, neighborhood)\n",
    "states = automata.propagate(times)"
   ]
  },
  {
   "cell_type": "code",
   "execution_count": null,
   "metadata": {},
   "outputs": [],
   "source": [
    "plotStates()"
   ]
  },
  {
   "cell_type": "markdown",
   "metadata": {},
   "source": [
    "# Cellular Automata with layers"
   ]
  },
  {
   "cell_type": "code",
   "execution_count": 4,
   "metadata": {
    "collapsed": true
   },
   "outputs": [],
   "source": [
    "temperature = np.load('data/temperature100x100.npy')\n",
    "wind_speed = np.load('data/wind_speed100x100.npy')\n",
    "humidity = np.load('data/humidity100x100.npy')\n",
    "pressure = np.load('data/pressure100x100.npy')"
   ]
  },
  {
   "cell_type": "code",
   "execution_count": 5,
   "metadata": {
    "collapsed": true
   },
   "outputs": [],
   "source": [
    "temperature = temperature / np.max(temperature)\n",
    "wind_speed = wind_speed / np.max(wind_speed)\n",
    "humidity = humidity / np.max(humidity)\n",
    "pressure = pressure / np.max(pressure)"
   ]
  },
  {
   "cell_type": "code",
   "execution_count": null,
   "metadata": {},
   "outputs": [],
   "source": [
    "from get_data import plotScalar"
   ]
  },
  {
   "cell_type": "code",
   "execution_count": 33,
   "metadata": {
    "collapsed": true
   },
   "outputs": [],
   "source": [
    "# Testing\n",
    "(M, N) = temperature.shape\n",
    "world = [temperature, wind_speed, humidity, pressure]\n",
    "initial = fireFocus(M, N, 50, 50, 2)\n",
    "#neighborhood = 'vonneumann'\n",
    "neighborhood = 'moore'\n",
    "alpha = .3\n",
    "beta = 1-alpha\n",
    "times = 200"
   ]
  },
  {
   "cell_type": "code",
   "execution_count": 34,
   "metadata": {
    "collapsed": true,
    "scrolled": false
   },
   "outputs": [],
   "source": [
    "automata = cal.new(initial, world, neighborhood, alpha, beta)\n",
    "states = automata.propagate(times)"
   ]
  },
  {
   "cell_type": "code",
   "execution_count": 35,
   "metadata": {},
   "outputs": [
    {
     "data": {
      "application/vnd.jupyter.widget-view+json": {
       "model_id": "9cde9de7cf364177910dfacea2eddfcc",
       "version_major": 2,
       "version_minor": 0
      },
      "text/html": [
       "<p>Failed to display Jupyter Widget of type <code>interactive</code>.</p>\n",
       "<p>\n",
       "  If you're reading this message in Jupyter Notebook or JupyterLab, it may mean\n",
       "  that the widgets JavaScript is still loading. If this message persists, it\n",
       "  likely means that the widgets JavaScript library is either not installed or\n",
       "  not enabled. See the <a href=\"https://ipywidgets.readthedocs.io/en/stable/user_install.html\">Jupyter\n",
       "  Widgets Documentation</a> for setup instructions.\n",
       "</p>\n",
       "<p>\n",
       "  If you're reading this message in another notebook frontend (for example, a static\n",
       "  rendering on GitHub or <a href=\"https://nbviewer.jupyter.org/\">NBViewer</a>),\n",
       "  it may mean that your frontend doesn't currently support widgets.\n",
       "</p>\n"
      ],
      "text/plain": [
       "interactive(children=(Play(value=0, description='Press play', max=199), Output()), _dom_classes=('widget-interact',))"
      ]
     },
     "metadata": {},
     "output_type": "display_data"
    }
   ],
   "source": [
    "plotStates()"
   ]
  },
  {
   "cell_type": "markdown",
   "metadata": {},
   "source": [
    "* $BT$: Burning trees\n",
    "* $T$: Temperature"
   ]
  },
  {
   "cell_type": "markdown",
   "metadata": {
    "collapsed": true
   },
   "source": [
    "\\begin{equation}\n",
    "    BT_{t+1} = BT_{t} + F(BT_t, T_t, W_t, T_t, P_T)\n",
    "\\end{equation}\n",
    "\\begin{equation}\n",
    "    T_{t+1} = F_t +  G(BT_t, T_t, W_t, T_t, P_T)\n",
    "\\end{equation}\n",
    "\\begin{equation}\n",
    "    W_{t+1} = W_t +  I( W_t)\n",
    "\\end{equation}"
   ]
  },
  {
   "cell_type": "code",
   "execution_count": null,
   "metadata": {
    "collapsed": true
   },
   "outputs": [],
   "source": []
  }
 ],
 "metadata": {
  "kernelspec": {
   "display_name": "Python 3",
   "language": "python",
   "name": "python3"
  },
  "language_info": {
   "codemirror_mode": {
    "name": "ipython",
    "version": 3
   },
   "file_extension": ".py",
   "mimetype": "text/x-python",
   "name": "python",
   "nbconvert_exporter": "python",
   "pygments_lexer": "ipython3",
   "version": "3.6.2"
  }
 },
 "nbformat": 4,
 "nbformat_minor": 2
}
