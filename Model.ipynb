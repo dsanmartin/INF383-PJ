{
 "cells": [
  {
   "cell_type": "markdown",
   "metadata": {},
   "source": [
    "# Forest Fire Spreading \n",
    "\n",
    "\n",
    "## Background\n",
    "\n",
    "Wildfires are one of the most harmful phenomena in Chile burning thousands of forest hectares every year destroying significant flora and fauna, and affecting the air, water cycles, and the ecosystem. Wildfires start by varied reasons, ranging from reckless human behavior to extreme weather and environmental conditions\n",
    "\n",
    "## Main Goal\n",
    "\n",
    "Build a mathematical model based on SPDE qualitatively realistic with the phenomenon behaviour. \n",
    "\n",
    "## Objectives\n",
    "1. Start with an agent based model, working with the weather conditions and initial fires focus. \n",
    "2. Get a continuous model based on SPDE from the ABM.\n",
    "3. Assess wind relevance to the model."
   ]
  },
  {
   "cell_type": "markdown",
   "metadata": {},
   "source": [
    "## Cellular Automata\n",
    "\n",
    "Formally, a cellular automaton could be represented by the 4-tuple $(Z,S,N,f)$ where:\n",
    "\n",
    "* $Z$ is the finite or infinite lattice\n",
    "* $S$ is a finite set of cell states or values\n",
    "* $N$ is the finite neighborhood\n",
    "* $f$ f is the local transition function defined by the transition table or the rule\n",
    "\n",
    "The lattice is a finite or infinite discrete regular grid of cells on a finite number of dimensions. Each cell is defined by its discrete position (an integer number for each dimension) and by its discrete value (one of a finite set of integers). Time is also discrete. The future state of a cell (time $t+1$) is a function of the present state (time $t$) of a finite number of cells surrounding the observed cell called the neighborhood.\n",
    "\n",
    "### Lattice, cell and configuration\n",
    "### Neighborhood\n",
    "\n",
    "For a 2D CA we could use:\n",
    "\n",
    "#### von Neumann neighborhood\n",
    "\n",
    "It is the smallest symmetric 2D aligned neighborhood usually described by directions on the compass $N=\\{N,W,C,E,S\\}$ sometimes the central cell is omitted. Formally the von Neumann neighborhood is the set of neighbors\n",
    "\n",
    "\\begin{equation}\n",
    "    n_{xy}=\\lbrace \\{0,-1\\},\\{-1,0\\},\\{0,0\\},\\{+1,0\\},\\{0,+1\\}\\rbrace \n",
    "\\end{equation}\n",
    "\n",
    "or \n",
    "\n",
    "\\begin{equation}\n",
    "     n_{(x_0,y_0)}^v=\\{(x,y):|x-x_0|+|y-y_0|\\leq r\\}, \n",
    "\\end{equation}\n",
    "\n",
    "for a range $r$.\n",
    "\n",
    "#### Moore neighborhood\n",
    "\n",
    "Is a simple square (usually 3×3 cells) with the output cell in the center. Usually cells in the neighborhood are described by directions on the compass $N=\\{NW,N,NE,W,C,E,SW,S,SE\\}$ sometimes the central cell is omitted. Formally the Moore neighborhood is the set of neighbors\n",
    "\n",
    "\\begin{equation}\n",
    "    n_{xy}=\\lbrace \\{-1,-1\\},\\{0,-1\\},\\{1,-1\\},\\{-1,0\\},\\{0,0\\},\\{+1,0\\},\\{-1,+1\\},\\{0,+1\\},\\{1,+1\\}\\rbrace\n",
    "\\end{equation}\n",
    "\n",
    "or \n",
    "\n",
    "\\begin{equation}\n",
    "    n_{(x_0,y_0)}^M=\\{(x,y):|x-x_0|\\leq r,|y-y_0|\\leq r\\},\n",
    "\\end{equation}\n",
    "\n",
    "for a range $r$.\n",
    "\n",
    "### Local transition function\n",
    "\n",
    "The local transition function \n",
    "\n",
    "\\begin{equation}\n",
    "    f:S^{N\\times M}\\mapsto S\n",
    "\\end{equation}\n",
    "\n",
    "calculates the value of a single future cell $c_{xy}$ from the neighborhood of the observed cell in the present.\n",
    "\n",
    "\\begin{equation}\n",
    "    c_{xy}^{t+1}=f(n_{xy}^{t})\n",
    "\\end{equation}\n",
    "\n",
    "### Global transition function\n",
    "\n",
    "The global dynamics of CA are described by the global transition function\n",
    "\\begin{equation}\n",
    "    F:S^{Z\\times Z}\\mapsto S^{Z\\times Z}\n",
    "\\end{equation}\n",
    "\n",
    "$F$ translates the current (present) configuration $C^{t}$ into the next (future) configuration $C^{t+1}$.\n",
    "\n",
    "\\begin{equation}\n",
    "    C^{t+1}=F\\left(C^{t}\\right)\n",
    "\\end{equation}\n",
    "\n",
    "The global transition function $F$ is defined by the local transition function $f$ as\n",
    "\n",
    "\\begin{equation}\n",
    "    F(\\dots c_{a\\in n_{xy}} \\dots) = \\dots f(n_{xy})\n",
    "    %F(\\dots c_{x-1,y-1}c_{x-1,y}c_{x,y-1}c_{xy}c_{x,y+1}c_{x+1,y}c_{x+1,y+1}\\dots )=\\dots f(n_{x-1,y-1})f(n_{x-1,y})f(n_{x,y-1})f(n_{xy})f(n_{x,y+1})f(n_{x+1,y})f(n_{x+1,y+1})\\dots\n",
    "\\end{equation}\n",
    "\n",
    "<!--\n",
    "### Finite lattices and lattice boundaries\n",
    "\n",
    "Infinite cellular automata have no boundary, so its boundary description $B$ is omitted. But there is no way to simulate an infinite system using a finite system. The simulation must focus on a finite part of length $l$.\n",
    "\n",
    "The neighborhood used in the local transition function oversteps the lattice boundary for $r_{L}, r_{R}, r_{T}, r_{B}$ cells at the left, right, top and bottom respectively.\n",
    "\n",
    "There are two common solutions to the overstepping problem: the lattice is wrapped into a circle (torus for 2D CA) the values of the overstepping parts of the neighborhood are defined explicitly as the boundary $B$\n",
    "\n",
    "#### Cyclic boundaries\n",
    "\n",
    "Cyclic boundaries are frequently used as there is no need to explicitly define the boundary value and no external information is introduced into the CA that could otherwise cause interference at the boundaries.\n",
    "\n",
    "The state of a finite lattice cellular automata is a configuration in the lattice $S^{Z\\times Z}$, where $Z$ is a cyclic group of integers modulo $N(\\{0,1,...,N-1\\})$\n",
    "\n",
    "{\\displaystyle C=c_{0}c_{1}\\dots c_{x-1}c_{i}c_{x+1}\\dots c_{N-1}\\qquad c\\in S} {\\displaystyle C=c_{0}c_{1}\\dots c_{x-1}c_{i}c_{x+1}\\dots c_{N-1}\\qquad c\\in S}\n",
    "The cyclic position index is calculated as\n",
    "\n",
    "{\\displaystyle x_{\\circ }=x\\mod N\\qquad x\\leq 0\\vee x>N} {\\displaystyle x_{\\circ }=x\\mod N\\qquad x\\leq 0\\vee x>N}\n",
    "\n",
    "#### Explicitly defined boundaries\n",
    "\n",
    "The lattice boundary (left and right)\n",
    "Explicitly defined boundaries are less common as the simple constant values are useful only for CA where we observe events on a quiescent background with period 1. The boundary can be defined as a single set (the left and the right part combined) of cell values of length {\\displaystyle k-1} k-1 (there is no boundary cell with index 0)\n",
    "\n",
    "{\\displaystyle B=\\{b_{-k_{0}},\\dots b_{-2},b_{-1},b_{l},b_{N+1},\\dots ,b_{k-k_{0}-1}\\}\\quad b\\in S} {\\displaystyle B=\\{b_{-k_{0}},\\dots b_{-2},b_{-1},b_{l},b_{N+1},\\dots ,b_{k-k_{0}-1}\\}\\quad b\\in S}\n",
    "-->"
   ]
  },
  {
   "cell_type": "code",
   "execution_count": 1,
   "metadata": {},
   "outputs": [],
   "source": [
    "import firemodels.cellularautomata as ca\n",
    "import firemodels.cellularautomatalayers as cal\n",
    "import firemodels.temperature as temp\n",
    "import numpy as np\n",
    "import matplotlib.pyplot as plt\n",
    "import ipywidgets as widgets\n",
    "from sklearn.preprocessing import MinMaxScaler"
   ]
  },
  {
   "cell_type": "code",
   "execution_count": null,
   "metadata": {
    "collapsed": true
   },
   "outputs": [],
   "source": [
    "def fireFocus(M, N, i, j, size):\n",
    "    focus = np.zeros((M, N))\n",
    "    focus[i-size:i+size, j-size:j+size] = np.ones((2*size, 2*size)) \n",
    "    return focus"
   ]
  },
  {
   "cell_type": "code",
   "execution_count": null,
   "metadata": {
    "collapsed": true
   },
   "outputs": [],
   "source": [
    "def plotStates(t=0):\n",
    "    play = widgets.Play(\n",
    "        value=0,\n",
    "        min=0,\n",
    "        max=len(states)-1,\n",
    "        step=1,\n",
    "        description=\"Press play\",\n",
    "        disabled=False\n",
    "    )\n",
    "    slider = widgets.IntSlider()\n",
    "    widgets.jslink((play, 'value'), (slider, 'value'))\n",
    "    widgets.HBox([play, slider])\n",
    "    widgets.interact(automata.plotStates, t=play)"
   ]
  },
  {
   "cell_type": "code",
   "execution_count": null,
   "metadata": {
    "collapsed": true
   },
   "outputs": [],
   "source": [
    "# Testing\n",
    "M = 101\n",
    "N = 101\n",
    "initial = fireFocus(M, N, 50, 50, 2)\n",
    "rule = .35\n",
    "#neighborhood = 'vonneumann'\n",
    "neighborhood = 'moore'\n",
    "times = 100"
   ]
  },
  {
   "cell_type": "code",
   "execution_count": null,
   "metadata": {
    "collapsed": true
   },
   "outputs": [],
   "source": [
    "automata = ca.new(M, N, initial, rule, neighborhood)\n",
    "states = automata.propagate(times)"
   ]
  },
  {
   "cell_type": "code",
   "execution_count": null,
   "metadata": {
    "collapsed": true
   },
   "outputs": [],
   "source": [
    "plotStates()"
   ]
  },
  {
   "cell_type": "markdown",
   "metadata": {},
   "source": [
    "# Cellular Automata with layers"
   ]
  },
  {
   "cell_type": "code",
   "execution_count": null,
   "metadata": {
    "collapsed": true
   },
   "outputs": [],
   "source": [
    "temperature = np.load('data/temperature100x100.npy')\n",
    "wind_speed = np.load('data/wind_speed100x100.npy')\n",
    "humidity = np.load('data/humidity100x100.npy')\n",
    "pressure = np.load('data/pressure100x100.npy')"
   ]
  },
  {
   "cell_type": "code",
   "execution_count": null,
   "metadata": {
    "collapsed": true
   },
   "outputs": [],
   "source": [
    "temperature = temperature / np.max(temperature)\n",
    "wind_speed = wind_speed / np.max(wind_speed)\n",
    "humidity = humidity / np.max(humidity)\n",
    "pressure = pressure / np.max(pressure)"
   ]
  },
  {
   "cell_type": "code",
   "execution_count": null,
   "metadata": {
    "collapsed": true
   },
   "outputs": [],
   "source": [
    "from get_data import plotScalar"
   ]
  },
  {
   "cell_type": "code",
   "execution_count": null,
   "metadata": {
    "collapsed": true
   },
   "outputs": [],
   "source": [
    "# Testing\n",
    "(M, N) = temperature.shape\n",
    "world = [temperature, wind_speed, humidity, pressure]\n",
    "initial = fireFocus(M, N, 50, 50, 2)\n",
    "#neighborhood = 'vonneumann'\n",
    "neighborhood = 'moore'\n",
    "alpha = .3\n",
    "beta = 1-alpha\n",
    "times = 200"
   ]
  },
  {
   "cell_type": "code",
   "execution_count": null,
   "metadata": {
    "collapsed": true,
    "scrolled": false
   },
   "outputs": [],
   "source": [
    "automata = cal.new(initial, world, neighborhood, alpha, beta)\n",
    "states = automata.propagate(times)"
   ]
  },
  {
   "cell_type": "code",
   "execution_count": null,
   "metadata": {},
   "outputs": [],
   "source": [
    "plotStates()"
   ]
  },
  {
   "cell_type": "markdown",
   "metadata": {},
   "source": [
    "* $BT$: Burning trees\n",
    "* $T$: Temperature"
   ]
  },
  {
   "cell_type": "markdown",
   "metadata": {
    "collapsed": true
   },
   "source": [
    "\\begin{equation}\n",
    "    BT_{t+1} = BT_{t} + F(BT_t, T_t, W_t, T_t, P_T)\n",
    "\\end{equation}\n",
    "\\begin{equation}\n",
    "    T_{t+1} = F_t +  G(BT_t, T_t, W_t, T_t, P_T)\n",
    "\\end{equation}\n",
    "\\begin{equation}\n",
    "    W_{t+1} = W_t +  I( W_t)\n",
    "\\end{equation}"
   ]
  },
  {
   "cell_type": "markdown",
   "metadata": {},
   "source": [
    "## Temperature"
   ]
  },
  {
   "cell_type": "markdown",
   "metadata": {},
   "source": [
    "### Modelo discreto\n",
    "\n",
    "\\begin{equation}\n",
    "    \\begin{split}\n",
    "        T_{i,j}^{k+1} & = T_{i,j}^k - \\frac45 T_{i,j}^k \n",
    "            + \\frac15\\left(T_{i-1,j}^k+T_{i+1,j}^k+T_{i,j-1}^k+T_{i,j+1}^k\\right) \\\\\n",
    "            & = \\frac15\\left(T_{i-1,j}^k+T_{i+1,j}^k+T_{i,j}^k+T_{i,j-1}^k+T_{i,j+1}^k\\right)\n",
    "    \\end{split}\n",
    "\\end{equation}"
   ]
  },
  {
   "cell_type": "code",
   "execution_count": 2,
   "metadata": {
    "collapsed": true
   },
   "outputs": [],
   "source": [
    "def temperatureFocus(M, N):\n",
    "    x = np.linspace(0, 1, N)\n",
    "    y = np.linspace(0, 1, M)\n",
    "    X, Y = np.meshgrid(x, y)\n",
    "    return 1e3*np.exp(-1000*((X-.5)**2 + (Y-.5)**2))"
   ]
  },
  {
   "cell_type": "code",
   "execution_count": 3,
   "metadata": {
    "collapsed": true
   },
   "outputs": [],
   "source": [
    "def plotTemperatures(t=0):\n",
    "    play = widgets.Play(\n",
    "        value=0,\n",
    "        min=0,\n",
    "        max=len(temps)-1,\n",
    "        step=1,\n",
    "        description=\"Press play\",\n",
    "        disabled=False\n",
    "    )\n",
    "    slider = widgets.IntSlider()\n",
    "    widgets.jslink((play, 'value'), (slider, 'value'))\n",
    "    widgets.HBox([play, slider])\n",
    "    widgets.interact(dtemp.plotTemperatures, t=play)"
   ]
  },
  {
   "cell_type": "code",
   "execution_count": 19,
   "metadata": {
    "collapsed": true
   },
   "outputs": [],
   "source": [
    "M, N = 100, 100\n",
    "times = 200\n",
    "initial = temperatureFocus(M, N)\n",
    "sigma = 0#1/30"
   ]
  },
  {
   "cell_type": "code",
   "execution_count": 20,
   "metadata": {},
   "outputs": [],
   "source": [
    "dtemp = temp.new(initial, sigma)\n",
    "temps = dtemp.propagate(times)"
   ]
  },
  {
   "cell_type": "code",
   "execution_count": 21,
   "metadata": {},
   "outputs": [
    {
     "data": {
      "application/vnd.jupyter.widget-view+json": {
       "model_id": "9cd08cb108924ef39ae79b154b8456b6",
       "version_major": 2,
       "version_minor": 0
      },
      "text/html": [
       "<p>Failed to display Jupyter Widget of type <code>interactive</code>.</p>\n",
       "<p>\n",
       "  If you're reading this message in Jupyter Notebook or JupyterLab, it may mean\n",
       "  that the widgets JavaScript is still loading. If this message persists, it\n",
       "  likely means that the widgets JavaScript library is either not installed or\n",
       "  not enabled. See the <a href=\"https://ipywidgets.readthedocs.io/en/stable/user_install.html\">Jupyter\n",
       "  Widgets Documentation</a> for setup instructions.\n",
       "</p>\n",
       "<p>\n",
       "  If you're reading this message in another notebook frontend (for example, a static\n",
       "  rendering on GitHub or <a href=\"https://nbviewer.jupyter.org/\">NBViewer</a>),\n",
       "  it may mean that your frontend doesn't currently support widgets.\n",
       "</p>\n"
      ],
      "text/plain": [
       "interactive(children=(Play(value=0, description='Press play', max=199), Output()), _dom_classes=('widget-interact',))"
      ]
     },
     "metadata": {},
     "output_type": "display_data"
    }
   ],
   "source": [
    "plotTemperatures()"
   ]
  },
  {
   "cell_type": "markdown",
   "metadata": {},
   "source": [
    "### "
   ]
  },
  {
   "cell_type": "code",
   "execution_count": null,
   "metadata": {
    "collapsed": true
   },
   "outputs": [],
   "source": []
  }
 ],
 "metadata": {
  "kernelspec": {
   "display_name": "Python 3",
   "language": "python",
   "name": "python3"
  },
  "language_info": {
   "codemirror_mode": {
    "name": "ipython",
    "version": 3
   },
   "file_extension": ".py",
   "mimetype": "text/x-python",
   "name": "python",
   "nbconvert_exporter": "python",
   "pygments_lexer": "ipython3",
   "version": "3.6.2"
  }
 },
 "nbformat": 4,
 "nbformat_minor": 2
}
