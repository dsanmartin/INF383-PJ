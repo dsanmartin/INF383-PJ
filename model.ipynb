{
 "cells": [
  {
   "cell_type": "markdown",
   "metadata": {},
   "source": [
    "# Forest Fire Spreading \n",
    "\n",
    "\n",
    "## Background\n",
    "\n",
    "Wildfires are one of the most harmful phenomena in Chile burning thousands of forest hectares every year destroying significant flora and fauna, and affecting the air, water cycles, and the ecosystem. Wildfires start by varied reasons, ranging from reckless human behavior to extreme weather and environmental conditions\n",
    "\n",
    "## Main Goal\n",
    "\n",
    "Build a mathematical model based on SPDE qualitatively realistic with the phenomenon behaviour. \n",
    "\n",
    "## Objectives\n",
    "1. Start with an agent based model, working with the weather conditions and initial fires focus. \n",
    "2. Get a continuous model based on SPDE from the ABM.\n",
    "3. Assess wind relevance to the model."
   ]
  },
  {
   "cell_type": "code",
   "execution_count": 1,
   "metadata": {},
   "outputs": [],
   "source": [
    "import firemodels.cellularautomata as ca\n",
    "import firemodels.cellularautomatalayers as cal\n",
    "import firemodels.temperature as temp\n",
    "import numpy as np\n",
    "import matplotlib.pyplot as plt\n",
    "import ipywidgets as widgets\n",
    "import warnings\n",
    "warnings.filterwarnings('ignore')"
   ]
  },
  {
   "cell_type": "markdown",
   "metadata": {},
   "source": [
    "## Cellular Automata"
   ]
  },
  {
   "cell_type": "code",
   "execution_count": 143,
   "metadata": {},
   "outputs": [],
   "source": [
    "def fireFocus(M, N, i, j, size):\n",
    "    focus = np.zeros((M, N))\n",
    "    focus[i-size:i+size, j-size:j+size] = np.ones((2*size, 2*size)) \n",
    "    return focus"
   ]
  },
  {
   "cell_type": "code",
   "execution_count": 144,
   "metadata": {},
   "outputs": [],
   "source": [
    "def plotStates(t=0):\n",
    "    play = widgets.Play(\n",
    "        value=0,\n",
    "        min=0,\n",
    "        max=len(states)-1,\n",
    "        step=1,\n",
    "        description=\"Press play\",\n",
    "        disabled=False\n",
    "    )\n",
    "    slider = widgets.IntSlider()\n",
    "    widgets.jslink((play, 'value'), (slider, 'value'))\n",
    "    widgets.HBox([play, slider])\n",
    "    widgets.interact(automata.plotStates, t=play)"
   ]
  },
  {
   "cell_type": "code",
   "execution_count": null,
   "metadata": {},
   "outputs": [],
   "source": [
    "# Testing\n",
    "M = 101\n",
    "N = 101\n",
    "initial = fireFocus(M, N, 50, 50, 2)\n",
    "rule = .35\n",
    "#neighborhood = 'vonneumann'\n",
    "neighborhood = 'moore'\n",
    "times = 100"
   ]
  },
  {
   "cell_type": "code",
   "execution_count": null,
   "metadata": {},
   "outputs": [],
   "source": [
    "automata = ca.new(M, N, initial, rule, neighborhood)\n",
    "states = automata.propagate(times)"
   ]
  },
  {
   "cell_type": "code",
   "execution_count": null,
   "metadata": {},
   "outputs": [],
   "source": [
    "plotStates()"
   ]
  },
  {
   "cell_type": "markdown",
   "metadata": {},
   "source": [
    "# Cellular Automata with layers"
   ]
  },
  {
   "cell_type": "code",
   "execution_count": null,
   "metadata": {},
   "outputs": [],
   "source": [
    "temperature = np.load('data/temperature100x100.npy')\n",
    "wind_speed = np.load('data/wind_speed100x100.npy')\n",
    "humidity = np.load('data/humidity100x100.npy')\n",
    "pressure = np.load('data/pressure100x100.npy')"
   ]
  },
  {
   "cell_type": "code",
   "execution_count": null,
   "metadata": {},
   "outputs": [],
   "source": [
    "temperature = temperature / np.max(temperature)\n",
    "wind_speed = wind_speed / np.max(wind_speed)\n",
    "humidity = humidity / np.max(humidity)\n",
    "pressure = pressure / np.max(pressure)"
   ]
  },
  {
   "cell_type": "code",
   "execution_count": null,
   "metadata": {},
   "outputs": [],
   "source": [
    "# Testing\n",
    "(M, N) = temperature.shape\n",
    "wd = np.ones_like(temperature)*0\n",
    "world = [temperature, wind_speed, wd, humidity, pressure]\n",
    "initial = fireFocus(M, N, 50, 50, 2)\n",
    "#neighborhood = 'vonneumann'\n",
    "neighborhood = 'moore'\n",
    "alpha = .5\n",
    "beta = 1-alpha\n",
    "times = 200\n",
    "rule = .3"
   ]
  },
  {
   "cell_type": "code",
   "execution_count": null,
   "metadata": {
    "scrolled": false
   },
   "outputs": [],
   "source": [
    "automata = cal.new(initial, world, neighborhood, rule, alpha, beta)\n",
    "states = automata.propagate(times)"
   ]
  },
  {
   "cell_type": "code",
   "execution_count": null,
   "metadata": {},
   "outputs": [],
   "source": [
    "plotStates()"
   ]
  },
  {
   "cell_type": "markdown",
   "metadata": {},
   "source": [
    "* $BT$: Burning trees\n",
    "* $T$: Temperature"
   ]
  },
  {
   "cell_type": "markdown",
   "metadata": {
    "collapsed": true
   },
   "source": [
    "<!--\n",
    "\\begin{equation}\n",
    "    BT_{t+1} = BT_{t} + F(BT_t, T_t, W_t, T_t, P_T)\n",
    "\\end{equation}\n",
    "\\begin{equation}\n",
    "    T_{t+1} = F_t +  G(BT_t, T_t, W_t, T_t, P_T)\n",
    "\\end{equation}\n",
    "\\begin{equation}\n",
    "    W_{t+1} = W_t +  I( W_t)\n",
    "\\end{equation}\n",
    "-->"
   ]
  },
  {
   "cell_type": "markdown",
   "metadata": {},
   "source": [
    "## Temperature"
   ]
  },
  {
   "cell_type": "markdown",
   "metadata": {},
   "source": [
    "### Discrete\n",
    "\n",
    "\\begin{equation}\n",
    "    \\begin{split}\n",
    "        T_{i,j}^{k+1} & = T_{i,j}^k - \\frac45 T_{i,j}^k \n",
    "            + \\frac15\\left(T_{i-1,j}^k+T_{i+1,j}^k+T_{i,j-1}^k+T_{i,j+1}^k\\right) \\\\\n",
    "            & = \\frac15\\left(T_{i-1,j}^k+T_{i+1,j}^k+T_{i,j}^k+T_{i,j-1}^k+T_{i,j+1}^k\\right)\n",
    "    \\end{split}\n",
    "\\end{equation}"
   ]
  },
  {
   "cell_type": "code",
   "execution_count": 2,
   "metadata": {},
   "outputs": [],
   "source": [
    "def temperatureFocus(M, N):\n",
    "    x = np.linspace(0, 1, N)\n",
    "    y = np.linspace(0, 1, M)\n",
    "    X, Y = np.meshgrid(x, y)\n",
    "    return 1e3*np.exp(-1000*((X-.5)**2 + (Y-.5)**2))"
   ]
  },
  {
   "cell_type": "code",
   "execution_count": 3,
   "metadata": {},
   "outputs": [],
   "source": [
    "M, N = 100, 100\n",
    "initial = temperatureFocus(M, N)\n",
    "times = 100\n",
    "c = 1/5"
   ]
  },
  {
   "cell_type": "code",
   "execution_count": 4,
   "metadata": {},
   "outputs": [],
   "source": [
    "dte = temp.discrete(c, 0, times, initial)\n",
    "dtemps = dte.propagate()"
   ]
  },
  {
   "cell_type": "code",
   "execution_count": 5,
   "metadata": {},
   "outputs": [
    {
     "data": {
      "application/vnd.jupyter.widget-view+json": {
       "model_id": "bfb85aa23ade4572b53c15289174b077",
       "version_major": 2,
       "version_minor": 0
      },
      "text/html": [
       "<p>Failed to display Jupyter Widget of type <code>interactive</code>.</p>\n",
       "<p>\n",
       "  If you're reading this message in the Jupyter Notebook or JupyterLab Notebook, it may mean\n",
       "  that the widgets JavaScript is still loading. If this message persists, it\n",
       "  likely means that the widgets JavaScript library is either not installed or\n",
       "  not enabled. See the <a href=\"https://ipywidgets.readthedocs.io/en/stable/user_install.html\">Jupyter\n",
       "  Widgets Documentation</a> for setup instructions.\n",
       "</p>\n",
       "<p>\n",
       "  If you're reading this message in another frontend (for example, a static\n",
       "  rendering on GitHub or <a href=\"https://nbviewer.jupyter.org/\">NBViewer</a>),\n",
       "  it may mean that your frontend doesn't currently support widgets.\n",
       "</p>\n"
      ],
      "text/plain": [
       "interactive(children=(IntSlider(value=0, continuous_update=False, description='t', max=99), Output()), _dom_classes=('widget-interact',))"
      ]
     },
     "metadata": {},
     "output_type": "display_data"
    },
    {
     "data": {
      "text/plain": [
       "<function ipywidgets.widgets.interaction._InteractFactory.__call__.<locals>.<lambda>>"
      ]
     },
     "execution_count": 5,
     "metadata": {},
     "output_type": "execute_result"
    }
   ],
   "source": [
    "widgets.interact(dte.plotTemperatures, t=widgets.IntSlider(min=0, max=len(dtemps)-1, continuous_update=False),\n",
    "                 temperatures=widgets.fixed(dtemps))"
   ]
  },
  {
   "cell_type": "markdown",
   "metadata": {},
   "source": [
    "#### With Forest"
   ]
  },
  {
   "cell_type": "code",
   "execution_count": 6,
   "metadata": {},
   "outputs": [],
   "source": [
    "def temperatureFocus(M, N):\n",
    "    temperature = np.zeros((M,N))\n",
    "    A = np.zeros((M,N))\n",
    "    A[M//2, N//2] = 1\n",
    "    A[M//2+1, N//2] = 1\n",
    "    temperature = temperature + A * 600\n",
    "    return temperature, A"
   ]
  },
  {
   "cell_type": "code",
   "execution_count": 140,
   "metadata": {},
   "outputs": [],
   "source": [
    "def temperatureFocus2(M, N):\n",
    "    # Initial trees burning\n",
    "    tree = np.zeros((M,N))\n",
    "    tree[M//2, N//2] = 1\n",
    "    tree[M//2+1, N//2] = 1\n",
    "    # Initial temperature\n",
    "    x = np.linspace(0, 1, N)\n",
    "    y = np.linspace(0, 1, M)\n",
    "    X, Y = np.meshgrid(x, y)\n",
    "    temperature = 1e3*np.exp(-1000*((X-.5)**2 + (Y-.5)**2))\n",
    "    #temperature = np.zeros((M,N))\n",
    "    #temperature = temperature + tree * 600\n",
    "    fuel = np.zeros((M,N))\n",
    "    radius = 20\n",
    "    cx, cy = M//2, N//2 # The center of circle\n",
    "    y, x = np.ogrid[-radius: radius, -radius: radius]\n",
    "    index = x**2 + y**2 <= radius**2\n",
    "    fuel[cy-radius:cy+radius, cx-radius:cx+radius][index] = 1\n",
    "    return temperature, tree, fuel"
   ]
  },
  {
   "cell_type": "code",
   "execution_count": 8,
   "metadata": {},
   "outputs": [],
   "source": [
    "M, N = 100, 100\n",
    "#initial, A = temperatureFocus(M, N)\n",
    "T0, A0, Y0 = temperatureFocus2(M, N)\n",
    "times = 300\n",
    "c = 1/5\n",
    "b = 8\n",
    "maxTemp = 1000"
   ]
  },
  {
   "cell_type": "code",
   "execution_count": 9,
   "metadata": {},
   "outputs": [],
   "source": [
    "dt2 = temp.discrete(c, 0, times, T0, A0, np.zeros_like(T0), None, b, maxTemp)"
   ]
  },
  {
   "cell_type": "code",
   "execution_count": 10,
   "metadata": {},
   "outputs": [],
   "source": [
    "dt2a_temps, dt2a_As, dt2a_fuels = dt2.propagate()"
   ]
  },
  {
   "cell_type": "code",
   "execution_count": 11,
   "metadata": {},
   "outputs": [
    {
     "data": {
      "application/vnd.jupyter.widget-view+json": {
       "model_id": "723b40895c434fc38221826a58166a0f",
       "version_major": 2,
       "version_minor": 0
      },
      "text/html": [
       "<p>Failed to display Jupyter Widget of type <code>interactive</code>.</p>\n",
       "<p>\n",
       "  If you're reading this message in the Jupyter Notebook or JupyterLab Notebook, it may mean\n",
       "  that the widgets JavaScript is still loading. If this message persists, it\n",
       "  likely means that the widgets JavaScript library is either not installed or\n",
       "  not enabled. See the <a href=\"https://ipywidgets.readthedocs.io/en/stable/user_install.html\">Jupyter\n",
       "  Widgets Documentation</a> for setup instructions.\n",
       "</p>\n",
       "<p>\n",
       "  If you're reading this message in another frontend (for example, a static\n",
       "  rendering on GitHub or <a href=\"https://nbviewer.jupyter.org/\">NBViewer</a>),\n",
       "  it may mean that your frontend doesn't currently support widgets.\n",
       "</p>\n"
      ],
      "text/plain": [
       "interactive(children=(IntSlider(value=0, continuous_update=False, description='t', max=299), Output()), _dom_classes=('widget-interact',))"
      ]
     },
     "metadata": {},
     "output_type": "display_data"
    },
    {
     "data": {
      "text/plain": [
       "<function ipywidgets.widgets.interaction._InteractFactory.__call__.<locals>.<lambda>>"
      ]
     },
     "execution_count": 11,
     "metadata": {},
     "output_type": "execute_result"
    }
   ],
   "source": [
    "widgets.interact(dt2.plotTemperatures, t=widgets.IntSlider(min=0, max=len(dt2a_temps)-1, \n",
    "    continuous_update=False), temperatures=widgets.fixed(dt2a_temps))"
   ]
  },
  {
   "cell_type": "markdown",
   "metadata": {},
   "source": [
    "#### Stochastic\n",
    "\n",
    "\\begin{equation}\n",
    "    T_{i,j}^{k+1} = T_{i,j}^{k} - 4 \\, c \\, T_{i,j}^{k} + (c + \\sigma_1 \\Delta  \\, Z^k_{i,j}) \\left(T_{i+1,j}^{k} + T_{i-1,j}^{k} + T_{i,j+1}^{k} + T_{i,j-1}^{k}\\right) + \\sigma_2 \\Delta W^k_{i,j}\n",
    "\\end{equation}"
   ]
  },
  {
   "cell_type": "markdown",
   "metadata": {},
   "source": [
    "#### Approach 1 $\\sigma_1=0$"
   ]
  },
  {
   "cell_type": "code",
   "execution_count": 12,
   "metadata": {},
   "outputs": [],
   "source": [
    "dt2b_temps, dt2b_A, _ = dt2.propagate(None, 5)"
   ]
  },
  {
   "cell_type": "code",
   "execution_count": 13,
   "metadata": {},
   "outputs": [
    {
     "data": {
      "application/vnd.jupyter.widget-view+json": {
       "model_id": "3d66b2506512407a8a8f98f082fcb623",
       "version_major": 2,
       "version_minor": 0
      },
      "text/html": [
       "<p>Failed to display Jupyter Widget of type <code>interactive</code>.</p>\n",
       "<p>\n",
       "  If you're reading this message in the Jupyter Notebook or JupyterLab Notebook, it may mean\n",
       "  that the widgets JavaScript is still loading. If this message persists, it\n",
       "  likely means that the widgets JavaScript library is either not installed or\n",
       "  not enabled. See the <a href=\"https://ipywidgets.readthedocs.io/en/stable/user_install.html\">Jupyter\n",
       "  Widgets Documentation</a> for setup instructions.\n",
       "</p>\n",
       "<p>\n",
       "  If you're reading this message in another frontend (for example, a static\n",
       "  rendering on GitHub or <a href=\"https://nbviewer.jupyter.org/\">NBViewer</a>),\n",
       "  it may mean that your frontend doesn't currently support widgets.\n",
       "</p>\n"
      ],
      "text/plain": [
       "interactive(children=(IntSlider(value=0, continuous_update=False, description='t', max=299), Output()), _dom_classes=('widget-interact',))"
      ]
     },
     "metadata": {},
     "output_type": "display_data"
    },
    {
     "data": {
      "text/plain": [
       "<function ipywidgets.widgets.interaction._InteractFactory.__call__.<locals>.<lambda>>"
      ]
     },
     "execution_count": 13,
     "metadata": {},
     "output_type": "execute_result"
    }
   ],
   "source": [
    "widgets.interact(dt2.plotTemperatures, t=widgets.IntSlider(min=0, max=len(dt2b_temps)-1, \n",
    "    continuous_update=False), temperatures=widgets.fixed(dt2b_temps))"
   ]
  },
  {
   "cell_type": "markdown",
   "metadata": {},
   "source": [
    "#### Approach 2 $\\sigma_1, \\sigma_2 \\neq 0$"
   ]
  },
  {
   "cell_type": "code",
   "execution_count": 14,
   "metadata": {},
   "outputs": [],
   "source": [
    "dt2c_temps, dt2c_A, _ = dt2.propagate(1/6, 1)"
   ]
  },
  {
   "cell_type": "code",
   "execution_count": 15,
   "metadata": {},
   "outputs": [
    {
     "data": {
      "application/vnd.jupyter.widget-view+json": {
       "model_id": "f4d822c11ad6450ea21c49a54674cdb9",
       "version_major": 2,
       "version_minor": 0
      },
      "text/html": [
       "<p>Failed to display Jupyter Widget of type <code>interactive</code>.</p>\n",
       "<p>\n",
       "  If you're reading this message in the Jupyter Notebook or JupyterLab Notebook, it may mean\n",
       "  that the widgets JavaScript is still loading. If this message persists, it\n",
       "  likely means that the widgets JavaScript library is either not installed or\n",
       "  not enabled. See the <a href=\"https://ipywidgets.readthedocs.io/en/stable/user_install.html\">Jupyter\n",
       "  Widgets Documentation</a> for setup instructions.\n",
       "</p>\n",
       "<p>\n",
       "  If you're reading this message in another frontend (for example, a static\n",
       "  rendering on GitHub or <a href=\"https://nbviewer.jupyter.org/\">NBViewer</a>),\n",
       "  it may mean that your frontend doesn't currently support widgets.\n",
       "</p>\n"
      ],
      "text/plain": [
       "interactive(children=(IntSlider(value=0, continuous_update=False, description='t', max=299), Output()), _dom_classes=('widget-interact',))"
      ]
     },
     "metadata": {},
     "output_type": "display_data"
    },
    {
     "data": {
      "text/plain": [
       "<function ipywidgets.widgets.interaction._InteractFactory.__call__.<locals>.<lambda>>"
      ]
     },
     "execution_count": 15,
     "metadata": {},
     "output_type": "execute_result"
    }
   ],
   "source": [
    "widgets.interact(dt2.plotTemperatures, t=widgets.IntSlider(min=0, max=len(dt2c_temps)-1, \n",
    "    continuous_update=False), temperatures=widgets.fixed(dt2c_temps))"
   ]
  },
  {
   "cell_type": "markdown",
   "metadata": {},
   "source": [
    "#### Fuel added\n",
    "\n",
    "\\begin{equation}\n",
    "    \\begin{split}\n",
    "        T_{i,j}^{k+1} & = T_{i,j}^{k} - 4 \\, c \\, T_{i,j}^{k} + (c + \\sigma_1 \\Delta  \\, Z^k_{i,j}) \\left(T_{i+1,j}^{k} + T_{i-1,j}^{k} + T_{i,j+1}^{k} + T_{i,j-1}^{k}\\right) + \\sigma_2 \\Delta W^k_{i,j} + H\\, A^k_{i,j}\\,Y_{i,j}^k \\, Z  \\exp(E/T^k_{i,j}) \\\\\n",
    "        Y^{k+1}_{i,j} & = Y^k_{i,j} - \\,Y_{i,j}^k \\, Z  \\exp(E/T^k_{i,j})\n",
    "    \\end{split}\n",
    "\\end{equation}"
   ]
  },
  {
   "cell_type": "markdown",
   "metadata": {},
   "source": [
    "#### With Forest and Fuel $\\sigma_1=\\sigma_2=0$"
   ]
  },
  {
   "cell_type": "code",
   "execution_count": 13,
   "metadata": {},
   "outputs": [],
   "source": [
    "M, N = 100, 100\n",
    "T0, A0, Y0 = temperatureFocus2(M, N)\n",
    "times = 300\n",
    "c = 1/5\n",
    "Ea = 1\n",
    "Z = .1\n",
    "H = 5500\n",
    "b = 8\n",
    "maxTemp = 1000\n",
    "dt3 = temp.discrete(c, 0, times, T0, A0, Y0, None, b, maxTemp, Ea, Z, H)\n",
    "dt3a_temps, dt3a_As, dt3a_fuel = dt3.propagate()#4/30, 20)"
   ]
  },
  {
   "cell_type": "code",
   "execution_count": 14,
   "metadata": {},
   "outputs": [
    {
     "data": {
      "application/vnd.jupyter.widget-view+json": {
       "model_id": "50a20d9966324b35b29c86ff150d4969",
       "version_major": 2,
       "version_minor": 0
      },
      "text/html": [
       "<p>Failed to display Jupyter Widget of type <code>interactive</code>.</p>\n",
       "<p>\n",
       "  If you're reading this message in the Jupyter Notebook or JupyterLab Notebook, it may mean\n",
       "  that the widgets JavaScript is still loading. If this message persists, it\n",
       "  likely means that the widgets JavaScript library is either not installed or\n",
       "  not enabled. See the <a href=\"https://ipywidgets.readthedocs.io/en/stable/user_install.html\">Jupyter\n",
       "  Widgets Documentation</a> for setup instructions.\n",
       "</p>\n",
       "<p>\n",
       "  If you're reading this message in another frontend (for example, a static\n",
       "  rendering on GitHub or <a href=\"https://nbviewer.jupyter.org/\">NBViewer</a>),\n",
       "  it may mean that your frontend doesn't currently support widgets.\n",
       "</p>\n"
      ],
      "text/plain": [
       "interactive(children=(IntSlider(value=0, continuous_update=False, description='t', max=299), Output()), _dom_classes=('widget-interact',))"
      ]
     },
     "metadata": {},
     "output_type": "display_data"
    },
    {
     "data": {
      "text/plain": [
       "<function ipywidgets.widgets.interaction._InteractFactory.__call__.<locals>.<lambda>>"
      ]
     },
     "execution_count": 14,
     "metadata": {},
     "output_type": "execute_result"
    }
   ],
   "source": [
    "widgets.interact(dt3.plotSimulation, t=widgets.IntSlider(min=0, max=len(dt3a_temps)-1, continuous_update=False), \n",
    "                 temperatures=widgets.fixed(dt3a_temps), fuels=widgets.fixed(dt3a_fuel), trees=widgets.fixed(dt3a_As))"
   ]
  },
  {
   "cell_type": "markdown",
   "metadata": {},
   "source": [
    "#### With Forest and Fuel Stochastic  $\\sigma_1, \\sigma_2 \\neq 0$"
   ]
  },
  {
   "cell_type": "code",
   "execution_count": 15,
   "metadata": {},
   "outputs": [],
   "source": [
    "M, N = 100, 100\n",
    "T0, A0, Y0 = temperatureFocus2(M, N)\n",
    "times = 300\n",
    "c = 1/5\n",
    "Ea = 1e-5\n",
    "Z = .1\n",
    "H = 5500\n",
    "b = 8\n",
    "maxTemp = 1000\n",
    "dt3_2 = temp.discrete(c, 0, times, T0, A0, Y0, None, b, maxTemp, Ea, Z, H)#temp.discrete(c, initial, times, A, b, maxTemp, Ea*1e-5, Z, H)\n",
    "dt3b_temps, dt3b_As, dt3b_fuel = dt3_2.propagate(1/10, 20)"
   ]
  },
  {
   "cell_type": "code",
   "execution_count": 16,
   "metadata": {},
   "outputs": [
    {
     "data": {
      "application/vnd.jupyter.widget-view+json": {
       "model_id": "1d8e291c4f574924ad9083773276ffb6",
       "version_major": 2,
       "version_minor": 0
      },
      "text/html": [
       "<p>Failed to display Jupyter Widget of type <code>interactive</code>.</p>\n",
       "<p>\n",
       "  If you're reading this message in the Jupyter Notebook or JupyterLab Notebook, it may mean\n",
       "  that the widgets JavaScript is still loading. If this message persists, it\n",
       "  likely means that the widgets JavaScript library is either not installed or\n",
       "  not enabled. See the <a href=\"https://ipywidgets.readthedocs.io/en/stable/user_install.html\">Jupyter\n",
       "  Widgets Documentation</a> for setup instructions.\n",
       "</p>\n",
       "<p>\n",
       "  If you're reading this message in another frontend (for example, a static\n",
       "  rendering on GitHub or <a href=\"https://nbviewer.jupyter.org/\">NBViewer</a>),\n",
       "  it may mean that your frontend doesn't currently support widgets.\n",
       "</p>\n"
      ],
      "text/plain": [
       "interactive(children=(IntSlider(value=0, continuous_update=False, description='t', max=299), Output()), _dom_classes=('widget-interact',))"
      ]
     },
     "metadata": {},
     "output_type": "display_data"
    },
    {
     "data": {
      "text/plain": [
       "<function ipywidgets.widgets.interaction._InteractFactory.__call__.<locals>.<lambda>>"
      ]
     },
     "execution_count": 16,
     "metadata": {},
     "output_type": "execute_result"
    }
   ],
   "source": [
    "widgets.interact(dt3.plotSimulation, t=widgets.IntSlider(min=0, max=len(dt3b_temps)-1, \n",
    "    continuous_update=False), temperatures=widgets.fixed(dt3b_temps), fuels=widgets.fixed(dt3b_fuel), trees=widgets.fixed(dt3b_As))"
   ]
  },
  {
   "cell_type": "markdown",
   "metadata": {},
   "source": [
    "#### With wind"
   ]
  },
  {
   "cell_type": "markdown",
   "metadata": {},
   "source": [
    "\\begin{equation}\n",
    "    \\begin{split}\n",
    "        T_{i,j}^{k+1} & = T_{i,j}^{k} - 4 \\, c \\, T_{i,j}^{k} + (c + \\sigma_1 \\Delta  \\, Z^k_{i,j}) \n",
    "            \\left(T_{i+1,j}^{k} + T_{i-1,j}^{k} + T_{i,j+1}^{k} + T_{i,j-1}^{k}\\right) \n",
    "            + \\gamma(V_x+V_y)+ \\sigma_2 \\Delta W^k_{i,j} + H\\, A^k_{i,j} \\,Y_{i,j}^k \\, Z  \\exp(-E/T^k_{i,j}) \\\\\n",
    "        Y^{k+1}_{i,j} & = Y^k_{i,j} - \\,Y_{i,j}^k \\, Z  \\exp(-E/T^k_{i,j})\n",
    "    \\end{split}\n",
    "\\end{equation}\n",
    "\n",
    "Where:\n",
    "\n",
    "$$V_x=\\begin{cases}-v_x(T_{i,j}^k - T_{i-1,j}^k) & \\textrm{if } v_x \\geq 0 \\\\-v_x(T_{i+1,j}^k - T_{i,j}^k) & \\textrm{otherwise}\\end{cases}$$\n",
    "\n",
    "$$V_y=\\begin{cases}-v_y(T_{i,j}^k - T_{i,j-1}^k) & \\textrm{if } v_y \\geq 0 \\\\-v_y(T_{i,j+1}^k - T_{i,j}^k) & \\textrm{otherwise}\\end{cases}$$"
   ]
  },
  {
   "cell_type": "code",
   "execution_count": 17,
   "metadata": {},
   "outputs": [],
   "source": [
    "M, N = 100, 100\n",
    "T0, A0, Y0 = temperatureFocus2(M, N)\n",
    "times = 300\n",
    "c = 1/5\n",
    "Ea = 1e-3\n",
    "Z = .1\n",
    "H = 5500\n",
    "b = 8\n",
    "maxTemp = 1000\n",
    "gamma = 1\n",
    "V = [(-.1, -.1)]\n",
    "dtempv = temp.discrete(c, gamma, times, T0, A0, Y0, V, b, maxTemp, Ea, Z, H) \n",
    "dtempvs, Asv, fuelsv = dtempv.propagate()#1/13, 15)"
   ]
  },
  {
   "cell_type": "code",
   "execution_count": 18,
   "metadata": {
    "scrolled": true
   },
   "outputs": [
    {
     "data": {
      "application/vnd.jupyter.widget-view+json": {
       "model_id": "bff415b9ca39454bba226ad4f60b5133",
       "version_major": 2,
       "version_minor": 0
      },
      "text/html": [
       "<p>Failed to display Jupyter Widget of type <code>interactive</code>.</p>\n",
       "<p>\n",
       "  If you're reading this message in the Jupyter Notebook or JupyterLab Notebook, it may mean\n",
       "  that the widgets JavaScript is still loading. If this message persists, it\n",
       "  likely means that the widgets JavaScript library is either not installed or\n",
       "  not enabled. See the <a href=\"https://ipywidgets.readthedocs.io/en/stable/user_install.html\">Jupyter\n",
       "  Widgets Documentation</a> for setup instructions.\n",
       "</p>\n",
       "<p>\n",
       "  If you're reading this message in another frontend (for example, a static\n",
       "  rendering on GitHub or <a href=\"https://nbviewer.jupyter.org/\">NBViewer</a>),\n",
       "  it may mean that your frontend doesn't currently support widgets.\n",
       "</p>\n"
      ],
      "text/plain": [
       "interactive(children=(IntSlider(value=0, continuous_update=False, description='t', max=299), Output()), _dom_classes=('widget-interact',))"
      ]
     },
     "metadata": {},
     "output_type": "display_data"
    },
    {
     "data": {
      "text/plain": [
       "<function ipywidgets.widgets.interaction._InteractFactory.__call__.<locals>.<lambda>>"
      ]
     },
     "execution_count": 18,
     "metadata": {},
     "output_type": "execute_result"
    }
   ],
   "source": [
    "widgets.interact(dtempv.plotSimulation, t=widgets.IntSlider(min=0, max=len(dtempvs)-1, \n",
    "    continuous_update=False), temperatures=widgets.fixed(dtempvs), fuels=widgets.fixed(fuelsv), trees=widgets.fixed(Asv))"
   ]
  },
  {
   "cell_type": "markdown",
   "metadata": {},
   "source": [
    "#### Newton's law of cooling"
   ]
  },
  {
   "cell_type": "markdown",
   "metadata": {},
   "source": [
    "\\begin{equation}\n",
    "    \\begin{split}\n",
    "        T_{i,j}^{k+1} & = T_{i,j}^{k} - 4 \\, c \\, T_{i,j}^{k} + (c + \\sigma_1 \\Delta  \\, Z^k_{i,j}) \n",
    "            \\left(T_{i+1,j}^{k} + T_{i-1,j}^{k} + T_{i,j+1}^{k} + T_{i,j-1}^{k}\\right)\n",
    "            + \\gamma(V_x+V_y) + H\\, A^k_{i,j} \\,Y_{i,j}^k \\, Z  \\exp(-E/T^k_{i,j}) \n",
    "            \\, - h(T_{i,j}^k - T_{env}) + \\sigma_2 \\Delta W^k_{i,j} \\\\\n",
    "        Y^{k+1}_{i,j} & = Y^k_{i,j} - \\,Y_{i,j}^k \\, Z  \\exp(-E/T^k_{i,j})\n",
    "    \\end{split}\n",
    "\\end{equation}\n",
    "\n",
    "Where:\n",
    "\n",
    "$$V_x=\\begin{cases}-v_x(T_{i,j}^k - T_{i-1,j}^k) & \\textrm{if } v_x \\geq 0 \\\\-v_x(T_{i+1,j}^k - T_{i,j}^k) & \\textrm{otherwise}\\end{cases}$$\n",
    "\n",
    "$$V_y=\\begin{cases}-v_y(T_{i,j}^k - T_{i,j-1}^k) & \\textrm{if } v_y \\geq 0 \\\\-v_y(T_{i,j+1}^k - T_{i,j}^k) & \\textrm{otherwise}\\end{cases}$$"
   ]
  },
  {
   "cell_type": "code",
   "execution_count": 19,
   "metadata": {},
   "outputs": [],
   "source": [
    "M, N = 100, 100\n",
    "T0, A0, Y0 = temperatureFocus2(M, N)\n",
    "times = 300\n",
    "c = 1/5\n",
    "Ea = 1e-5\n",
    "Z = .1\n",
    "H = 5500\n",
    "b = 8\n",
    "maxTemp = 1000\n",
    "Ea = 1\n",
    "h = 1e-2\n",
    "T_ref = 30\n",
    "dtenv = temp.discrete(c, gamma, times, T0, A0, Y0, V, b, maxTemp, Ea, Z, H, h, T_ref) \n",
    "dtsenv, Asenv, fsenv = dtenv.propagate()"
   ]
  },
  {
   "cell_type": "code",
   "execution_count": 20,
   "metadata": {},
   "outputs": [
    {
     "data": {
      "application/vnd.jupyter.widget-view+json": {
       "model_id": "db7a9098d1c44cf9bb4d82eac6b7256f",
       "version_major": 2,
       "version_minor": 0
      },
      "text/html": [
       "<p>Failed to display Jupyter Widget of type <code>interactive</code>.</p>\n",
       "<p>\n",
       "  If you're reading this message in the Jupyter Notebook or JupyterLab Notebook, it may mean\n",
       "  that the widgets JavaScript is still loading. If this message persists, it\n",
       "  likely means that the widgets JavaScript library is either not installed or\n",
       "  not enabled. See the <a href=\"https://ipywidgets.readthedocs.io/en/stable/user_install.html\">Jupyter\n",
       "  Widgets Documentation</a> for setup instructions.\n",
       "</p>\n",
       "<p>\n",
       "  If you're reading this message in another frontend (for example, a static\n",
       "  rendering on GitHub or <a href=\"https://nbviewer.jupyter.org/\">NBViewer</a>),\n",
       "  it may mean that your frontend doesn't currently support widgets.\n",
       "</p>\n"
      ],
      "text/plain": [
       "interactive(children=(IntSlider(value=0, continuous_update=False, description='t', max=299), Output()), _dom_classes=('widget-interact',))"
      ]
     },
     "metadata": {},
     "output_type": "display_data"
    },
    {
     "data": {
      "text/plain": [
       "<function ipywidgets.widgets.interaction._InteractFactory.__call__.<locals>.<lambda>>"
      ]
     },
     "execution_count": 20,
     "metadata": {},
     "output_type": "execute_result"
    }
   ],
   "source": [
    "widgets.interact(dtempv.plotSimulation, t=widgets.IntSlider(min=0, max=len(dtsenv)-1, \n",
    "    continuous_update=False), temperatures=widgets.fixed(dtsenv), fuels=widgets.fixed(fsenv), trees=widgets.fixed(Asenv))"
   ]
  },
  {
   "cell_type": "markdown",
   "metadata": {},
   "source": [
    "### Continuous\n",
    "\n",
    "\\begin{equation}\n",
    "    \\partial T(i,j,k)= (c' \\, \\partial t + \\sigma_1' \\, \\partial Z_{i,j}(t))\\, \\Delta T(i,j,k) + \\sigma_2' \\,\\partial W_{i,j}(t)\n",
    "\\end{equation}"
   ]
  },
  {
   "cell_type": "markdown",
   "metadata": {},
   "source": [
    "#### With $\\sigma_1=\\sigma_2=0$"
   ]
  },
  {
   "cell_type": "code",
   "execution_count": null,
   "metadata": {},
   "outputs": [],
   "source": [
    "def temperatureCFocus(M, N):\n",
    "    x = np.linspace(0, 1, N)\n",
    "    y = np.linspace(0, 1, M)\n",
    "    X, Y = np.meshgrid(x, y)\n",
    "    return 1e3*np.exp(-1000*((X-.5)**2 + (Y-.5)**2))"
   ]
  },
  {
   "cell_type": "code",
   "execution_count": null,
   "metadata": {},
   "outputs": [],
   "source": [
    "M, N = 50, 50  \n",
    "\n",
    "initial, A = temperatureFocus(M, N)\n",
    "\n",
    "# Parameters\n",
    "mu = 1/5 \n",
    "T = 1000\n",
    "dt = 1e-4\n",
    "b = 8\n",
    "maxTemp = 1000"
   ]
  },
  {
   "cell_type": "code",
   "execution_count": null,
   "metadata": {},
   "outputs": [],
   "source": [
    "ct = temp.continuous(initial, mu, dt, T, b, maxTemp, A=A)\n",
    "cta, Aa, Wa = ct.solvePDE()"
   ]
  },
  {
   "cell_type": "code",
   "execution_count": null,
   "metadata": {},
   "outputs": [],
   "source": [
    "widgets.interact(ct.plotTemperatures, t=widgets.IntSlider(min=0, max=len(cta)-1), \n",
    "                 temperatures=widgets.fixed(cta))"
   ]
  },
  {
   "cell_type": "markdown",
   "metadata": {
    "collapsed": true
   },
   "source": [
    "#### Approach 1 $\\sigma_1\\neq 0$"
   ]
  },
  {
   "cell_type": "code",
   "execution_count": null,
   "metadata": {},
   "outputs": [],
   "source": [
    "ctb, Ab, Wb = ct.solvePDE(1/3)"
   ]
  },
  {
   "cell_type": "code",
   "execution_count": null,
   "metadata": {},
   "outputs": [],
   "source": [
    "widgets.interact(ct.plotTemperatures, t=widgets.IntSlider(min=0, max=len(ctb)-1), \n",
    "                 temperatures=widgets.fixed(ctb))"
   ]
  },
  {
   "cell_type": "markdown",
   "metadata": {},
   "source": [
    "#### Approach 1 $\\sigma_1,\\sigma_2\\neq 0$"
   ]
  },
  {
   "cell_type": "code",
   "execution_count": null,
   "metadata": {},
   "outputs": [],
   "source": [
    "ctc, Ac, Wc = ct.solvePDE(1/8, 2000)"
   ]
  },
  {
   "cell_type": "code",
   "execution_count": null,
   "metadata": {},
   "outputs": [],
   "source": [
    "widgets.interact(ct.plotTemperatures, t=widgets.IntSlider(min=0, max=len(ctc)-1), \n",
    "                 temperatures=widgets.fixed(ctc))"
   ]
  },
  {
   "cell_type": "markdown",
   "metadata": {},
   "source": [
    "## Topography"
   ]
  },
  {
   "cell_type": "code",
   "execution_count": null,
   "metadata": {},
   "outputs": [],
   "source": [
    "import csv"
   ]
  },
  {
   "cell_type": "code",
   "execution_count": null,
   "metadata": {},
   "outputs": [],
   "source": [
    "def CSVElevation(path):\n",
    "    x, y, z = [], [], []\n",
    "    with open(path, newline='') as csvfile:\n",
    "        data = csv.reader(csvfile, delimiter='\\t', quotechar='|')\n",
    "        next(data, None)\n",
    "        for row in data:\n",
    "            y.append(float(row[1]))\n",
    "            x.append(float(row[2]))\n",
    "            z.append(float(row[3]))\n",
    "        \n",
    "    return np.array(x), np.array(y), np.array(z)"
   ]
  },
  {
   "cell_type": "code",
   "execution_count": null,
   "metadata": {},
   "outputs": [],
   "source": [
    "M, N = 100, 100\n",
    "\n",
    "start_lat, start_lng = -33.088309, -71.655849\n",
    "end_lat, end_lng = -33.141629, -71.594160"
   ]
  },
  {
   "cell_type": "code",
   "execution_count": null,
   "metadata": {},
   "outputs": [],
   "source": [
    "x, y, z = CSVElevation(\"data/valpo_elevation.csv\")"
   ]
  },
  {
   "cell_type": "code",
   "execution_count": null,
   "metadata": {},
   "outputs": [],
   "source": [
    "X = x.reshape(M, N)\n",
    "Y = y.reshape(M, N)\n",
    "Z = z.reshape(M, N)"
   ]
  },
  {
   "cell_type": "code",
   "execution_count": null,
   "metadata": {},
   "outputs": [],
   "source": [
    "plt.contourf(X, Y, Z)\n",
    "plt.colorbar()\n",
    "plt.show()"
   ]
  },
  {
   "cell_type": "code",
   "execution_count": null,
   "metadata": {},
   "outputs": [],
   "source": [
    "# Compute gradient\n",
    "dx = 1.#X[0, 1] - X[0, 0]\n",
    "dy = 1.#Y[0, 1] - Y[0, 0]\n",
    "#Z_x = np.gradient(Z, dx, axis=1)\n",
    "#Z_y = np.gradient(Z, dy, axis=0)\n",
    "Z_x = np.gradient(Z, axis=1)\n",
    "Z_y = np.gradient(Z, axis=0)\n",
    "plt.contourf(X, Y, Z_x)\n",
    "plt.colorbar()\n",
    "plt.show()\n",
    "plt.contourf(X, Y, Z_y)\n",
    "plt.colorbar()\n",
    "plt.show()"
   ]
  },
  {
   "cell_type": "code",
   "execution_count": null,
   "metadata": {},
   "outputs": [],
   "source": [
    "p = 4\n",
    "\n",
    "nZ_x = np.zeros((M//p, N//p))\n",
    "nZ_y = np.zeros((M//p, N//p))\n",
    "\n",
    "for i in range(M//p):\n",
    "    for j in range(N//p):\n",
    "        nZ_x[i, j] = np.sum(Z_x[p*i:p*(i+1), p*j:p*(j+1)]) / (p**2)\n",
    "        nZ_y[i, j] = np.sum(Z_y[p*i:p*(i+1), p*j:p*(j+1)]) / (p**2)\n",
    "    \n",
    "#elev = plt.contourf(X[::s,::s], Y[::s,::s], Z[::s,::s], alpha=.5)\n",
    "plt.figure(figsize=(12, 8))\n",
    "elv = plt.contourf(X[::p,::p], Y[::p,::p], Z[::p,::p], alpha=.5)\n",
    "plt.quiver(X[::p,::p], Y[::p,::p], nZ_x, nZ_y)\n",
    "plt.colorbar(elv)\n",
    "plt.show()"
   ]
  },
  {
   "cell_type": "code",
   "execution_count": null,
   "metadata": {},
   "outputs": [],
   "source": [
    "s = 2\n",
    "plt.figure(figsize=(12, 8))\n",
    "elev = plt.contourf(X[::s,::s], Y[::s,::s], Z[::s,::s], alpha=.5)\n",
    "plt.quiver(X[::s,::s], Y[::s,::s], Z_x[::s,::s], Z_y[::s,::s])\n",
    "plt.colorbar(elev)\n",
    "plt.show()"
   ]
  },
  {
   "cell_type": "markdown",
   "metadata": {},
   "source": [
    "## Wind"
   ]
  },
  {
   "cell_type": "code",
   "execution_count": 12,
   "metadata": {},
   "outputs": [],
   "source": [
    "from scipy import interpolate"
   ]
  },
  {
   "cell_type": "code",
   "execution_count": 13,
   "metadata": {},
   "outputs": [],
   "source": [
    "v_spe = np.load('data/speed.npy')\n",
    "v_dir = np.load('data/direction.npy')"
   ]
  },
  {
   "cell_type": "code",
   "execution_count": 14,
   "metadata": {},
   "outputs": [],
   "source": [
    "T = 50\n",
    "speed = v_spe[-T:]#v_spe[:T]\n",
    "direction = np.radians(v_dir[-T:])\n",
    "t = np.linspace(0, 10*T, T)\n",
    "#plt.plot(t, speed)\n",
    "#plt.plot(t, direction)\n",
    "#plt.show()\n",
    "\n",
    "fs = interpolate.interp1d(t, speed, kind='cubic')\n",
    "fd = interpolate.interp1d(t, direction, kind='cubic')\n",
    "fine_t = np.linspace(0, 10*T, 10*T)\n",
    "int_speed = fs(fine_t)\n",
    "int_direction = fd(fine_t)\n",
    "#plt.plot(fine_t, int_speed)\n",
    "#plt.plot(fine_t, int_direction)\n",
    "#plt.show()\n",
    "\n",
    "xv = int_speed * np.cos(int_direction)\n",
    "yv = int_speed * np.sin(int_direction)\n",
    "#plt.plot(xv)\n",
    "#plt.plot(yv)\n",
    "#plt.show()"
   ]
  },
  {
   "cell_type": "code",
   "execution_count": 15,
   "metadata": {},
   "outputs": [],
   "source": [
    "ONES = np.ones((10, 10))"
   ]
  },
  {
   "cell_type": "code",
   "execution_count": 16,
   "metadata": {},
   "outputs": [],
   "source": [
    "def plotWind(i, u, v):\n",
    "    plt.quiver(u[i]*ONES, v[i]*ONES)\n",
    "    plt.show()"
   ]
  },
  {
   "cell_type": "code",
   "execution_count": 17,
   "metadata": {},
   "outputs": [
    {
     "data": {
      "application/vnd.jupyter.widget-view+json": {
       "model_id": "749f5be7c5f647f19df1765eef72d463",
       "version_major": 2,
       "version_minor": 0
      },
      "text/html": [
       "<p>Failed to display Jupyter Widget of type <code>interactive</code>.</p>\n",
       "<p>\n",
       "  If you're reading this message in the Jupyter Notebook or JupyterLab Notebook, it may mean\n",
       "  that the widgets JavaScript is still loading. If this message persists, it\n",
       "  likely means that the widgets JavaScript library is either not installed or\n",
       "  not enabled. See the <a href=\"https://ipywidgets.readthedocs.io/en/stable/user_install.html\">Jupyter\n",
       "  Widgets Documentation</a> for setup instructions.\n",
       "</p>\n",
       "<p>\n",
       "  If you're reading this message in another frontend (for example, a static\n",
       "  rendering on GitHub or <a href=\"https://nbviewer.jupyter.org/\">NBViewer</a>),\n",
       "  it may mean that your frontend doesn't currently support widgets.\n",
       "</p>\n"
      ],
      "text/plain": [
       "interactive(children=(IntSlider(value=0, description='i', max=499), Output()), _dom_classes=('widget-interact',))"
      ]
     },
     "metadata": {},
     "output_type": "display_data"
    },
    {
     "data": {
      "text/plain": [
       "<function __main__.plotWind>"
      ]
     },
     "execution_count": 17,
     "metadata": {},
     "output_type": "execute_result"
    }
   ],
   "source": [
    "widgets.interact(plotWind, i=widgets.IntSlider(min=0, max=len(xv)-1), u=widgets.fixed(xv), v=widgets.fixed(yv))"
   ]
  },
  {
   "cell_type": "code",
   "execution_count": 18,
   "metadata": {},
   "outputs": [],
   "source": [
    "winds = list()\n",
    "for i in range(len(xv)):\n",
    "    winds.append((1e-2*xv[i], 1e-2*yv[i]))"
   ]
  },
  {
   "cell_type": "markdown",
   "metadata": {},
   "source": [
    "## Scale Experiments\n",
    "\n",
    "### Diffussion scale"
   ]
  },
  {
   "cell_type": "markdown",
   "metadata": {},
   "source": [
    "Testing $c=c'\\, \\Delta t$"
   ]
  },
  {
   "cell_type": "code",
   "execution_count": 276,
   "metadata": {
    "scrolled": true
   },
   "outputs": [
    {
     "name": "stdout",
     "output_type": "stream",
     "text": [
      "109.181009436\n"
     ]
    }
   ],
   "source": [
    "M, N = 100, 100\n",
    "T0, A0, Y0 = temperatureFocus2(M, N)\n",
    "A0 = np.zeros_like(A0)\n",
    "Y1 = np.ones_like(Y0)\n",
    "\n",
    "gamma = 2/8 \n",
    "times = 100\n",
    "Z = .05\n",
    "b = 8\n",
    "maxTemp = 1000\n",
    "Ea = 1\n",
    "h = 0.2 #1e-2\n",
    "T_ref = 30\n",
    "H = 8000\n",
    "c = 1/5\n",
    "\n",
    "gamma = 0\n",
    "Z = 0\n",
    "b = 8\n",
    "Ea = 1\n",
    "h = 0\n",
    "\n",
    "dt = 1\n",
    "\n",
    "c = 1/5*dt\n",
    "\n",
    "wind2 = [(-0.5,-0.5)]\n",
    "dtenv = temp.discrete(c, gamma, times, T0, A0, Y1, wind2[0:], b, maxTemp, Ea, Z, H, h, T_ref) \n",
    "dtsenv, Asenv, fsenv = dtenv.propagate()\n",
    "print(np.max(dtsenv[-1]))"
   ]
  },
  {
   "cell_type": "code",
   "execution_count": 277,
   "metadata": {},
   "outputs": [
    {
     "data": {
      "application/vnd.jupyter.widget-view+json": {
       "model_id": "77f3b4c7782b4e54a57c9bf81c9131d9",
       "version_major": 2,
       "version_minor": 0
      },
      "text/html": [
       "<p>Failed to display Jupyter Widget of type <code>interactive</code>.</p>\n",
       "<p>\n",
       "  If you're reading this message in the Jupyter Notebook or JupyterLab Notebook, it may mean\n",
       "  that the widgets JavaScript is still loading. If this message persists, it\n",
       "  likely means that the widgets JavaScript library is either not installed or\n",
       "  not enabled. See the <a href=\"https://ipywidgets.readthedocs.io/en/stable/user_install.html\">Jupyter\n",
       "  Widgets Documentation</a> for setup instructions.\n",
       "</p>\n",
       "<p>\n",
       "  If you're reading this message in another frontend (for example, a static\n",
       "  rendering on GitHub or <a href=\"https://nbviewer.jupyter.org/\">NBViewer</a>),\n",
       "  it may mean that your frontend doesn't currently support widgets.\n",
       "</p>\n"
      ],
      "text/plain": [
       "interactive(children=(IntSlider(value=0, continuous_update=False, description='Timestep:', max=99), Output()), _dom_classes=('widget-interact',))"
      ]
     },
     "metadata": {},
     "output_type": "display_data"
    },
    {
     "data": {
      "text/plain": [
       "<function ipywidgets.widgets.interaction._InteractFactory.__call__.<locals>.<lambda>>"
      ]
     },
     "execution_count": 277,
     "metadata": {},
     "output_type": "execute_result"
    }
   ],
   "source": [
    "widgets.interact(dtenv.plotSimulation, t=widgets.IntSlider(min=0, max=len(dtsenv)-1,description='Timestep:', \n",
    "    continuous_update=False), temperatures=widgets.fixed(dtsenv), fuels=widgets.fixed(fsenv), trees=widgets.fixed(Asenv))"
   ]
  },
  {
   "cell_type": "code",
   "execution_count": 278,
   "metadata": {},
   "outputs": [
    {
     "name": "stdout",
     "output_type": "stream",
     "text": [
      "109.12772966\n"
     ]
    }
   ],
   "source": [
    "M, N = 100, 100\n",
    "T0, A0, Y0 = temperatureFocus2(M, N)\n",
    "A0 = np.zeros_like(A0)\n",
    "Y1 = np.ones_like(Y0)\n",
    "times = 200\n",
    "dt = 1/2\n",
    "\n",
    "c = 1/5*dt\n",
    "\n",
    "dtenv = temp.discrete(c, gamma, times, T0, A0, Y1, wind2[0:], b, maxTemp, Ea, Z, H, h, T_ref) \n",
    "dtsenv, Asenv, fsenv = dtenv.propagate()\n",
    "print(np.max(dtsenv[-1]))"
   ]
  },
  {
   "cell_type": "code",
   "execution_count": 279,
   "metadata": {},
   "outputs": [
    {
     "data": {
      "application/vnd.jupyter.widget-view+json": {
       "model_id": "de5480fce32147ada235544a45b3d294",
       "version_major": 2,
       "version_minor": 0
      },
      "text/html": [
       "<p>Failed to display Jupyter Widget of type <code>interactive</code>.</p>\n",
       "<p>\n",
       "  If you're reading this message in the Jupyter Notebook or JupyterLab Notebook, it may mean\n",
       "  that the widgets JavaScript is still loading. If this message persists, it\n",
       "  likely means that the widgets JavaScript library is either not installed or\n",
       "  not enabled. See the <a href=\"https://ipywidgets.readthedocs.io/en/stable/user_install.html\">Jupyter\n",
       "  Widgets Documentation</a> for setup instructions.\n",
       "</p>\n",
       "<p>\n",
       "  If you're reading this message in another frontend (for example, a static\n",
       "  rendering on GitHub or <a href=\"https://nbviewer.jupyter.org/\">NBViewer</a>),\n",
       "  it may mean that your frontend doesn't currently support widgets.\n",
       "</p>\n"
      ],
      "text/plain": [
       "interactive(children=(IntSlider(value=0, continuous_update=False, description='t', max=199), Output()), _dom_classes=('widget-interact',))"
      ]
     },
     "metadata": {},
     "output_type": "display_data"
    },
    {
     "data": {
      "text/plain": [
       "<function ipywidgets.widgets.interaction._InteractFactory.__call__.<locals>.<lambda>>"
      ]
     },
     "execution_count": 279,
     "metadata": {},
     "output_type": "execute_result"
    }
   ],
   "source": [
    "widgets.interact(dtenv.plotSimulation, t=widgets.IntSlider(min=0, max=len(dtsenv)-1, \n",
    "    continuous_update=False), temperatures=widgets.fixed(dtsenv), fuels=widgets.fixed(fsenv), trees=widgets.fixed(Asenv))"
   ]
  },
  {
   "cell_type": "code",
   "execution_count": 253,
   "metadata": {},
   "outputs": [
    {
     "name": "stdout",
     "output_type": "stream",
     "text": [
      "109.109897324\n"
     ]
    }
   ],
   "source": [
    "M, N = 100, 100\n",
    "T0, A0, Y0 = temperatureFocus2(M, N)\n",
    "A0 = np.zeros_like(A0)\n",
    "Y1 = np.ones_like(Y0)\n",
    "times = 300\n",
    "dt = 1/3\n",
    "\n",
    "c = 1/5*dt\n",
    "\n",
    "dtenv = temp.discrete(c, gamma, times, T0, A0, Y1, wind2[0:], b, maxTemp, Ea, Z, H, h, T_ref) \n",
    "dtsenv, Asenv, fsenv = dtenv.propagate()\n",
    "print(np.max(dtsenv[-1]))"
   ]
  },
  {
   "cell_type": "markdown",
   "metadata": {},
   "source": [
    "Testing $c=\\frac{c'}{h^2}$"
   ]
  },
  {
   "cell_type": "code",
   "execution_count": 260,
   "metadata": {},
   "outputs": [
    {
     "name": "stdout",
     "output_type": "stream",
     "text": [
      "109.56641806\n"
     ]
    }
   ],
   "source": [
    "M, N = 75, 75\n",
    "T0, A0, Y0 = temperatureFocus2(M, N)\n",
    "A0 = np.zeros_like(A0)\n",
    "Y1 = np.ones_like(Y0)\n",
    "times = 100\n",
    "dx = 100/M\n",
    "c = 1/5*dx**-2\n",
    "dtenv = temp.discrete(c, gamma, times, T0, A0, Y1, wind2[0:], b, maxTemp, Ea, Z, H, h, T_ref) \n",
    "dtsenv, Asenv, fsenv = dtenv.propagate()\n",
    "print(np.max(dtsenv[-1]))"
   ]
  },
  {
   "cell_type": "code",
   "execution_count": 261,
   "metadata": {},
   "outputs": [
    {
     "name": "stdout",
     "output_type": "stream",
     "text": [
      "109.181009436\n"
     ]
    }
   ],
   "source": [
    "M, N = 100, 100\n",
    "T0, A0, Y0 = temperatureFocus2(M, N)\n",
    "A0 = np.zeros_like(A0)\n",
    "Y1 = np.ones_like(Y0)\n",
    "times = 100\n",
    "dx = 100/M\n",
    "c = 1/5*dx**-2\n",
    "dtenv = temp.discrete(c, gamma, times, T0, A0, Y1, wind2[0:], b, maxTemp, Ea, Z, H, h, T_ref) \n",
    "dtsenv, Asenv, fsenv = dtenv.propagate()\n",
    "cs2[1] = np.max(dtsenv[-1])\n",
    "print(cs2[1])"
   ]
  },
  {
   "cell_type": "code",
   "execution_count": 262,
   "metadata": {},
   "outputs": [
    {
     "name": "stdout",
     "output_type": "stream",
     "text": [
      "107.019526978\n"
     ]
    }
   ],
   "source": [
    "M, N = 50, 50\n",
    "T0, A0, Y0 = temperatureFocus2(M, N)\n",
    "A0 = np.zeros_like(A0)\n",
    "Y1 = np.ones_like(Y0)\n",
    "times = 100\n",
    "dx = 100/M\n",
    "c = 1/5*dx**-2\n",
    "dtenv = temp.discrete(c, gamma, times, T0, A0, Y1, wind2[0:], b, maxTemp, Ea, Z, H, h, T_ref) \n",
    "dtsenv, Asenv, fsenv = dtenv.propagate()\n",
    "cs2[2] = np.max(dtsenv[-1])\n",
    "print(cs2[2])"
   ]
  },
  {
   "cell_type": "markdown",
   "metadata": {},
   "source": [
    "### Gamma scale"
   ]
  },
  {
   "cell_type": "markdown",
   "metadata": {},
   "source": [
    "Testing $\\gamma=\\frac{\\gamma'}{h}$"
   ]
  },
  {
   "cell_type": "code",
   "execution_count": 281,
   "metadata": {},
   "outputs": [
    {
     "name": "stdout",
     "output_type": "stream",
     "text": [
      "44 44\n"
     ]
    }
   ],
   "source": [
    "M, N = 100, 100\n",
    "T0, A0, Y0 = temperatureFocus2(M, N)\n",
    "A0 = np.zeros_like(A0)\n",
    "Y1 = np.ones_like(Y0)\n",
    "times = 100\n",
    "dx = 100/M\n",
    "dt = 1\n",
    "gamma = 1/8*dx**-1\n",
    "Z = 0\n",
    "b = 8\n",
    "Ea = 1\n",
    "h = 0\n",
    "c = 0\n",
    "\n",
    "dtenv = temp.discrete(c, gamma, times, T0, A0, Y1, wind2[0:], b, maxTemp, Ea, Z, H, h, T_ref) \n",
    "dtsenv, Asenv, fsenv = dtenv.propagate()\n",
    "i,j = np.unravel_index(dtsenv[-1].argmax(), dtsenv[-1].shape)\n",
    "print(i, j)"
   ]
  },
  {
   "cell_type": "code",
   "execution_count": 282,
   "metadata": {},
   "outputs": [
    {
     "data": {
      "application/vnd.jupyter.widget-view+json": {
       "model_id": "77cacf3bdfc14a13be1c1a392bb71972",
       "version_major": 2,
       "version_minor": 0
      },
      "text/html": [
       "<p>Failed to display Jupyter Widget of type <code>interactive</code>.</p>\n",
       "<p>\n",
       "  If you're reading this message in the Jupyter Notebook or JupyterLab Notebook, it may mean\n",
       "  that the widgets JavaScript is still loading. If this message persists, it\n",
       "  likely means that the widgets JavaScript library is either not installed or\n",
       "  not enabled. See the <a href=\"https://ipywidgets.readthedocs.io/en/stable/user_install.html\">Jupyter\n",
       "  Widgets Documentation</a> for setup instructions.\n",
       "</p>\n",
       "<p>\n",
       "  If you're reading this message in another frontend (for example, a static\n",
       "  rendering on GitHub or <a href=\"https://nbviewer.jupyter.org/\">NBViewer</a>),\n",
       "  it may mean that your frontend doesn't currently support widgets.\n",
       "</p>\n"
      ],
      "text/plain": [
       "interactive(children=(IntSlider(value=0, continuous_update=False, description='t', max=99), Output()), _dom_classes=('widget-interact',))"
      ]
     },
     "metadata": {},
     "output_type": "display_data"
    },
    {
     "data": {
      "text/plain": [
       "<function ipywidgets.widgets.interaction._InteractFactory.__call__.<locals>.<lambda>>"
      ]
     },
     "execution_count": 282,
     "metadata": {},
     "output_type": "execute_result"
    }
   ],
   "source": [
    "widgets.interact(dtenv.plotSimulation, t=widgets.IntSlider(min=0, max=len(dtsenv)-1, \n",
    "    continuous_update=False), temperatures=widgets.fixed(dtsenv), fuels=widgets.fixed(fsenv), trees=widgets.fixed(Asenv))"
   ]
  },
  {
   "cell_type": "code",
   "execution_count": 283,
   "metadata": {},
   "outputs": [
    {
     "name": "stdout",
     "output_type": "stream",
     "text": [
      "87 87\n"
     ]
    }
   ],
   "source": [
    "M, N = 200, 200\n",
    "T0, A0, Y0 = temperatureFocus2(M, N)\n",
    "A0 = np.zeros_like(A0)\n",
    "Y1 = np.ones_like(Y0)\n",
    "times = 100\n",
    "dx = 100/M\n",
    "dt = 1/2\n",
    "gamma = 1/8*dx**-1\n",
    "\n",
    "dtenv = temp.discrete(c, gamma, times, T0, A0, Y1, wind2[0:], b, maxTemp, Ea, Z, H, h, T_ref) \n",
    "dtsenv, Asenv, fsenv = dtenv.propagate()\n",
    "i,j = np.unravel_index(dtsenv[-1].argmax(), dtsenv[-1].shape)\n",
    "print(i, j)"
   ]
  },
  {
   "cell_type": "code",
   "execution_count": 284,
   "metadata": {
    "scrolled": true
   },
   "outputs": [
    {
     "data": {
      "application/vnd.jupyter.widget-view+json": {
       "model_id": "3aa85100a3964669b3ec5cc0241a2eed",
       "version_major": 2,
       "version_minor": 0
      },
      "text/html": [
       "<p>Failed to display Jupyter Widget of type <code>interactive</code>.</p>\n",
       "<p>\n",
       "  If you're reading this message in the Jupyter Notebook or JupyterLab Notebook, it may mean\n",
       "  that the widgets JavaScript is still loading. If this message persists, it\n",
       "  likely means that the widgets JavaScript library is either not installed or\n",
       "  not enabled. See the <a href=\"https://ipywidgets.readthedocs.io/en/stable/user_install.html\">Jupyter\n",
       "  Widgets Documentation</a> for setup instructions.\n",
       "</p>\n",
       "<p>\n",
       "  If you're reading this message in another frontend (for example, a static\n",
       "  rendering on GitHub or <a href=\"https://nbviewer.jupyter.org/\">NBViewer</a>),\n",
       "  it may mean that your frontend doesn't currently support widgets.\n",
       "</p>\n"
      ],
      "text/plain": [
       "interactive(children=(IntSlider(value=0, continuous_update=False, description='t', max=99), Output()), _dom_classes=('widget-interact',))"
      ]
     },
     "metadata": {},
     "output_type": "display_data"
    },
    {
     "data": {
      "text/plain": [
       "<function ipywidgets.widgets.interaction._InteractFactory.__call__.<locals>.<lambda>>"
      ]
     },
     "execution_count": 284,
     "metadata": {},
     "output_type": "execute_result"
    }
   ],
   "source": [
    "widgets.interact(dtenv.plotSimulation, t=widgets.IntSlider(min=0, max=len(dtsenv)-1, \n",
    "    continuous_update=False), temperatures=widgets.fixed(dtsenv), fuels=widgets.fixed(fsenv), trees=widgets.fixed(Asenv))"
   ]
  },
  {
   "cell_type": "markdown",
   "metadata": {},
   "source": [
    "Testing $\\gamma=\\gamma'\\Delta t$"
   ]
  },
  {
   "cell_type": "code",
   "execution_count": 263,
   "metadata": {},
   "outputs": [
    {
     "name": "stdout",
     "output_type": "stream",
     "text": [
      "44 44\n"
     ]
    }
   ],
   "source": [
    "M, N = 100, 100\n",
    "T0, A0, Y0 = temperatureFocus2(M, N)\n",
    "A0 = np.zeros_like(A0)\n",
    "Y1 = np.ones_like(Y0)\n",
    "times = 100\n",
    "dt = 1\n",
    "gamma = 1/8*dt\n",
    "Z = 0\n",
    "b = 8\n",
    "Ea = 1\n",
    "h = 0\n",
    "c = 0\n",
    "\n",
    "dtenv = temp.discrete(c, gamma, times, T0, A0, Y1, wind2[0:], b, maxTemp, Ea, Z, H, h, T_ref) \n",
    "dtsenv, Asenv, fsenv = dtenv.propagate()\n",
    "i,j = np.unravel_index(dtsenv[-1].argmax(), dtsenv[-1].shape)\n",
    "print(i, j)"
   ]
  },
  {
   "cell_type": "code",
   "execution_count": 264,
   "metadata": {},
   "outputs": [
    {
     "name": "stdout",
     "output_type": "stream",
     "text": [
      "44 44\n"
     ]
    }
   ],
   "source": [
    "M, N = 100, 100\n",
    "T0, A0, Y0 = temperatureFocus2(M, N)\n",
    "A0 = np.zeros_like(A0)\n",
    "Y1 = np.ones_like(Y0)\n",
    "times = 200\n",
    "dt = 1/2\n",
    "gamma = 1/8*dt\n",
    "Z = 0\n",
    "b = 8\n",
    "Ea = 1\n",
    "h = 0\n",
    "c = 0\n",
    "\n",
    "dtenv = temp.discrete(c, gamma, times, T0, A0, Y1, wind2[0:], b, maxTemp, Ea, Z, H, h, T_ref) \n",
    "dtsenv, Asenv, fsenv = dtenv.propagate()\n",
    "i,j = np.unravel_index(dtsenv[-1].argmax(), dtsenv[-1].shape)\n",
    "print(i, j)"
   ]
  },
  {
   "cell_type": "markdown",
   "metadata": {},
   "source": [
    "### Z Scale"
   ]
  },
  {
   "cell_type": "markdown",
   "metadata": {},
   "source": [
    "Testing that $Z$ doesn't depend on $\\Delta x$. "
   ]
  },
  {
   "cell_type": "code",
   "execution_count": 265,
   "metadata": {},
   "outputs": [
    {
     "name": "stdout",
     "output_type": "stream",
     "text": [
      "2469.09544373\n"
     ]
    }
   ],
   "source": [
    "M, N = 100, 100\n",
    "T0, A0, Y0 = temperatureFocus2(M, N)\n",
    "A0 = np.zeros_like(A0)\n",
    "Y1 = np.ones_like(Y0)\n",
    "times = 4\n",
    "gamma = 0\n",
    "Z = 0.1 \n",
    "b = 8\n",
    "Ea = 1\n",
    "h = 0\n",
    "c = 0\n",
    "\n",
    "dtenv = temp.discrete(c, gamma, times, T0, A0, Y1, wind2[0:], b, maxTemp, Ea, Z, H, h, T_ref) \n",
    "dtsenv, Asenv, fsenv = dtenv.propagate()\n",
    "print(np.max(dtsenv[-1]))"
   ]
  },
  {
   "cell_type": "code",
   "execution_count": 232,
   "metadata": {},
   "outputs": [
    {
     "data": {
      "application/vnd.jupyter.widget-view+json": {
       "model_id": "03f46d3fad4c450288a0b5357e008ff9",
       "version_major": 2,
       "version_minor": 0
      },
      "text/html": [
       "<p>Failed to display Jupyter Widget of type <code>interactive</code>.</p>\n",
       "<p>\n",
       "  If you're reading this message in the Jupyter Notebook or JupyterLab Notebook, it may mean\n",
       "  that the widgets JavaScript is still loading. If this message persists, it\n",
       "  likely means that the widgets JavaScript library is either not installed or\n",
       "  not enabled. See the <a href=\"https://ipywidgets.readthedocs.io/en/stable/user_install.html\">Jupyter\n",
       "  Widgets Documentation</a> for setup instructions.\n",
       "</p>\n",
       "<p>\n",
       "  If you're reading this message in another frontend (for example, a static\n",
       "  rendering on GitHub or <a href=\"https://nbviewer.jupyter.org/\">NBViewer</a>),\n",
       "  it may mean that your frontend doesn't currently support widgets.\n",
       "</p>\n"
      ],
      "text/plain": [
       "interactive(children=(IntSlider(value=0, continuous_update=False, description='t', max=3), Output()), _dom_classes=('widget-interact',))"
      ]
     },
     "metadata": {},
     "output_type": "display_data"
    },
    {
     "data": {
      "text/plain": [
       "<function ipywidgets.widgets.interaction._InteractFactory.__call__.<locals>.<lambda>>"
      ]
     },
     "execution_count": 232,
     "metadata": {},
     "output_type": "execute_result"
    }
   ],
   "source": [
    "widgets.interact(dtenv.plotSimulation, t=widgets.IntSlider(min=0, max=len(dtsenv)-1, \n",
    "    continuous_update=False), temperatures=widgets.fixed(dtsenv), fuels=widgets.fixed(fsenv), trees=widgets.fixed(Asenv))"
   ]
  },
  {
   "cell_type": "code",
   "execution_count": 266,
   "metadata": {},
   "outputs": [
    {
     "name": "stdout",
     "output_type": "stream",
     "text": [
      "2513.29780168\n"
     ]
    }
   ],
   "source": [
    "M, N = 300, 300\n",
    "T0, A0, Y0 = temperatureFocus2(M, N)\n",
    "A0 = np.zeros_like(A0)\n",
    "Y1 = np.ones_like(Y0)\n",
    "times = 4\n",
    "\n",
    "Z = 0.1\n",
    "\n",
    "\n",
    "dtenv = temp.discrete(c, gamma, times, T0, A0, Y1, wind2[0:], b, maxTemp, Ea, Z, H, h, T_ref) \n",
    "dtsenv, Asenv, fsenv = dtenv.propagate()\n",
    "print(np.max(dtsenv[-1]))"
   ]
  },
  {
   "cell_type": "code",
   "execution_count": 270,
   "metadata": {},
   "outputs": [
    {
     "data": {
      "application/vnd.jupyter.widget-view+json": {
       "model_id": "e28b7dad69df4a39bd063dae4c260084",
       "version_major": 2,
       "version_minor": 0
      },
      "text/html": [
       "<p>Failed to display Jupyter Widget of type <code>interactive</code>.</p>\n",
       "<p>\n",
       "  If you're reading this message in the Jupyter Notebook or JupyterLab Notebook, it may mean\n",
       "  that the widgets JavaScript is still loading. If this message persists, it\n",
       "  likely means that the widgets JavaScript library is either not installed or\n",
       "  not enabled. See the <a href=\"https://ipywidgets.readthedocs.io/en/stable/user_install.html\">Jupyter\n",
       "  Widgets Documentation</a> for setup instructions.\n",
       "</p>\n",
       "<p>\n",
       "  If you're reading this message in another frontend (for example, a static\n",
       "  rendering on GitHub or <a href=\"https://nbviewer.jupyter.org/\">NBViewer</a>),\n",
       "  it may mean that your frontend doesn't currently support widgets.\n",
       "</p>\n"
      ],
      "text/plain": [
       "interactive(children=(IntSlider(value=0, continuous_update=False, description='Timestep:', max=199), Output()), _dom_classes=('widget-interact',))"
      ]
     },
     "metadata": {},
     "output_type": "display_data"
    },
    {
     "data": {
      "text/plain": [
       "<function ipywidgets.widgets.interaction._InteractFactory.__call__.<locals>.<lambda>>"
      ]
     },
     "execution_count": 270,
     "metadata": {},
     "output_type": "execute_result"
    }
   ],
   "source": [
    "widgets.interact(dtenv.plotSimulation, t=widgets.IntSlider(min=0, max=len(dtsenv)-1,description='Timestep:',\n",
    "    continuous_update=False), temperatures=widgets.fixed(dtsenv), fuels=widgets.fixed(fsenv), trees=widgets.fixed(Asenv))"
   ]
  },
  {
   "cell_type": "markdown",
   "metadata": {},
   "source": [
    "Testing $Z=Z'\\, \\Delta t$"
   ]
  },
  {
   "cell_type": "code",
   "execution_count": 267,
   "metadata": {},
   "outputs": [
    {
     "name": "stdout",
     "output_type": "stream",
     "text": [
      "8872.61482312\n"
     ]
    }
   ],
   "source": [
    "M, N = 100, 100\n",
    "T0, A0, Y0 = temperatureFocus2(M, N)\n",
    "A0 = np.zeros_like(A0)\n",
    "Y1 = np.ones_like(Y0)\n",
    "times = 100\n",
    "dt = 1\n",
    "Z = 0.1*dt\n",
    "\n",
    "\n",
    "dtenv = temp.discrete(c, gamma, times, T0, A0, Y1, wind2[0:], b, maxTemp, Ea, Z, H, h, T_ref) \n",
    "dtsenv, Asenv, fsenv = dtenv.propagate()\n",
    "print(np.max(dtsenv[-1]))"
   ]
  },
  {
   "cell_type": "code",
   "execution_count": 268,
   "metadata": {},
   "outputs": [
    {
     "name": "stdout",
     "output_type": "stream",
     "text": [
      "8871.09304421\n"
     ]
    }
   ],
   "source": [
    "M, N = 100, 100\n",
    "T0, A0, Y0 = temperatureFocus2(M, N)\n",
    "A0 = np.zeros_like(A0)\n",
    "Y1 = np.ones_like(Y0)\n",
    "times = 200\n",
    "dt = 1/2\n",
    "Z = 0.1*dt\n",
    "\n",
    "\n",
    "dtenv = temp.discrete(c, gamma, times, T0, A0, Y1, wind2[0:], b, maxTemp, Ea, Z, H, h, T_ref) \n",
    "dtsenv, Asenv, fsenv = dtenv.propagate()\n",
    "print(np.max(dtsenv[-1]))"
   ]
  },
  {
   "cell_type": "markdown",
   "metadata": {},
   "source": [
    "### Cooling Factor"
   ]
  },
  {
   "cell_type": "markdown",
   "metadata": {},
   "source": [
    "Testing $h_{cool}$ doesn't depend on $h=\\Delta x=\\Delta y$."
   ]
  },
  {
   "cell_type": "code",
   "execution_count": 271,
   "metadata": {},
   "outputs": [
    {
     "name": "stdout",
     "output_type": "stream",
     "text": [
      "154.314050771\n"
     ]
    }
   ],
   "source": [
    "M, N = 100, 100\n",
    "T0, A0, Y0 = temperatureFocus2(M, N)\n",
    "A0 = np.zeros_like(A0)\n",
    "Y1 = np.ones_like(Y0)\n",
    "times = 20\n",
    "\n",
    "gamma = 0\n",
    "Z = 0\n",
    "b = 8\n",
    "Ea = 1\n",
    "h = 0.1\n",
    "c = 0\n",
    "\n",
    "dtenv = temp.discrete(c, gamma, times, T0, A0, Y1, wind2[0:], b, maxTemp, Ea, Z, H, h, T_ref) \n",
    "dtsenv, Asenv, fsenv = dtenv.propagate()\n",
    "print(np.max(dtsenv[-1]))"
   ]
  },
  {
   "cell_type": "code",
   "execution_count": 272,
   "metadata": {},
   "outputs": [
    {
     "data": {
      "application/vnd.jupyter.widget-view+json": {
       "model_id": "538489b7f3c44849bd7b7aebc6586f0c",
       "version_major": 2,
       "version_minor": 0
      },
      "text/html": [
       "<p>Failed to display Jupyter Widget of type <code>interactive</code>.</p>\n",
       "<p>\n",
       "  If you're reading this message in the Jupyter Notebook or JupyterLab Notebook, it may mean\n",
       "  that the widgets JavaScript is still loading. If this message persists, it\n",
       "  likely means that the widgets JavaScript library is either not installed or\n",
       "  not enabled. See the <a href=\"https://ipywidgets.readthedocs.io/en/stable/user_install.html\">Jupyter\n",
       "  Widgets Documentation</a> for setup instructions.\n",
       "</p>\n",
       "<p>\n",
       "  If you're reading this message in another frontend (for example, a static\n",
       "  rendering on GitHub or <a href=\"https://nbviewer.jupyter.org/\">NBViewer</a>),\n",
       "  it may mean that your frontend doesn't currently support widgets.\n",
       "</p>\n"
      ],
      "text/plain": [
       "interactive(children=(IntSlider(value=0, continuous_update=False, description='Timestep:', max=19), Output()), _dom_classes=('widget-interact',))"
      ]
     },
     "metadata": {},
     "output_type": "display_data"
    },
    {
     "data": {
      "text/plain": [
       "<function ipywidgets.widgets.interaction._InteractFactory.__call__.<locals>.<lambda>>"
      ]
     },
     "execution_count": 272,
     "metadata": {},
     "output_type": "execute_result"
    }
   ],
   "source": [
    "widgets.interact(dtenv.plotSimulation, t=widgets.IntSlider(min=0, max=len(dtsenv)-1, description='Timestep:',\n",
    "    continuous_update=False), temperatures=widgets.fixed(dtsenv), fuels=widgets.fixed(fsenv), trees=widgets.fixed(Asenv))"
   ]
  },
  {
   "cell_type": "code",
   "execution_count": 273,
   "metadata": {},
   "outputs": [
    {
     "name": "stdout",
     "output_type": "stream",
     "text": [
      "159.33776092\n"
     ]
    }
   ],
   "source": [
    "M, N = 200, 200\n",
    "T0, A0, Y0 = temperatureFocus2(M, N)\n",
    "A0 = np.zeros_like(A0)\n",
    "Y1 = np.ones_like(Y0)\n",
    "times = 20\n",
    "\n",
    "h = 0.1\n",
    "\n",
    "\n",
    "dtenv = temp.discrete(c, gamma, times, T0, A0, Y1, wind2[0:], b, maxTemp, Ea, Z, H, h, T_ref) \n",
    "dtsenv, Asenv, fsenv = dtenv.propagate()\n",
    "print(np.max(dtsenv[-1]))"
   ]
  },
  {
   "cell_type": "code",
   "execution_count": 274,
   "metadata": {},
   "outputs": [
    {
     "data": {
      "application/vnd.jupyter.widget-view+json": {
       "model_id": "4467c2cd28704cfd82f4da8a29b95bda",
       "version_major": 2,
       "version_minor": 0
      },
      "text/html": [
       "<p>Failed to display Jupyter Widget of type <code>interactive</code>.</p>\n",
       "<p>\n",
       "  If you're reading this message in the Jupyter Notebook or JupyterLab Notebook, it may mean\n",
       "  that the widgets JavaScript is still loading. If this message persists, it\n",
       "  likely means that the widgets JavaScript library is either not installed or\n",
       "  not enabled. See the <a href=\"https://ipywidgets.readthedocs.io/en/stable/user_install.html\">Jupyter\n",
       "  Widgets Documentation</a> for setup instructions.\n",
       "</p>\n",
       "<p>\n",
       "  If you're reading this message in another frontend (for example, a static\n",
       "  rendering on GitHub or <a href=\"https://nbviewer.jupyter.org/\">NBViewer</a>),\n",
       "  it may mean that your frontend doesn't currently support widgets.\n",
       "</p>\n"
      ],
      "text/plain": [
       "interactive(children=(IntSlider(value=0, continuous_update=False, description='Timestep:', max=19), Output()), _dom_classes=('widget-interact',))"
      ]
     },
     "metadata": {},
     "output_type": "display_data"
    },
    {
     "data": {
      "text/plain": [
       "<function ipywidgets.widgets.interaction._InteractFactory.__call__.<locals>.<lambda>>"
      ]
     },
     "execution_count": 274,
     "metadata": {},
     "output_type": "execute_result"
    }
   ],
   "source": [
    "widgets.interact(dtenv.plotSimulation, t=widgets.IntSlider(min=0, max=len(dtsenv)-1, description='Timestep:',\n",
    "    continuous_update=False), temperatures=widgets.fixed(dtsenv), fuels=widgets.fixed(fsenv), trees=widgets.fixed(Asenv))"
   ]
  },
  {
   "cell_type": "markdown",
   "metadata": {},
   "source": [
    "Testing $h=h'\\Delta t$"
   ]
  },
  {
   "cell_type": "code",
   "execution_count": 236,
   "metadata": {},
   "outputs": [
    {
     "name": "stdout",
     "output_type": "stream",
     "text": [
      "30.0271594502\n"
     ]
    }
   ],
   "source": [
    "M, N = 100, 100\n",
    "T0, A0, Y0 = temperatureFocus2(M, N)\n",
    "A0 = np.zeros_like(A0)\n",
    "Y1 = np.ones_like(Y0)\n",
    "times = 100\n",
    "dt = 1\n",
    "gamma = 0\n",
    "Z = 0\n",
    "b = 8\n",
    "Ea = 1\n",
    "h = 0.1*dt\n",
    "c = 0\n",
    "\n",
    "dtenv = temp.discrete(c, gamma, times, T0, A0, Y1, wind2[0:], b, maxTemp, Ea, Z, H, h, T_ref) \n",
    "dtsenv, Asenv, fsenv = dtenv.propagate()\n",
    "print(np.max(dtsenv[-1]))"
   ]
  },
  {
   "cell_type": "code",
   "execution_count": 275,
   "metadata": {},
   "outputs": [
    {
     "name": "stdout",
     "output_type": "stream",
     "text": [
      "30.0339554892\n"
     ]
    }
   ],
   "source": [
    "M, N = 100, 100\n",
    "T0, A0, Y0 = temperatureFocus2(M, N)\n",
    "A0 = np.zeros_like(A0)\n",
    "Y1 = np.ones_like(Y0)\n",
    "times = 200\n",
    "dt = 1/2\n",
    "gamma = 0\n",
    "Z = 0\n",
    "b = 8\n",
    "Ea = 1\n",
    "h = 0.1*dt\n",
    "c = 0\n",
    "\n",
    "dtenv = temp.discrete(c, gamma, times, T0, A0, Y1, wind2[0:], b, maxTemp, Ea, Z, H, h, T_ref) \n",
    "dtsenv, Asenv, fsenv = dtenv.propagate()\n",
    "print(np.max(dtsenv[-1]))"
   ]
  },
  {
   "cell_type": "code",
   "execution_count": 414,
   "metadata": {},
   "outputs": [],
   "source": [
    "T0 = 10\n",
    "alpha = 0.1\n",
    "\n",
    "times = 100\n",
    " \n",
    "T = T0\n",
    "W = np.random.normal(0,1,times)\n",
    "for i in range(times):\n",
    "    \n",
    "    T = T * (1 + alpha)  + W[i]"
   ]
  },
  {
   "cell_type": "code",
   "execution_count": 415,
   "metadata": {},
   "outputs": [
    {
     "data": {
      "text/plain": [
       "160579.45124392002"
      ]
     },
     "execution_count": 415,
     "metadata": {},
     "output_type": "execute_result"
    }
   ],
   "source": [
    "T"
   ]
  },
  {
   "cell_type": "code",
   "execution_count": null,
   "metadata": {},
   "outputs": [],
   "source": [
    "T0 = 10\n",
    "alpha = 0.1\n",
    "\n",
    "times = 200\n",
    " \n",
    "T = T0\n",
    "W = np.random.normal(0,1,times)\n",
    "\n",
    "for i in range(times):\n",
    "    \n",
    "    T = T * (1 + alpha)  + W[i]"
   ]
  },
  {
   "cell_type": "markdown",
   "metadata": {},
   "source": [
    "Hay que agregar un plot para jugar con todos los parametros."
   ]
  },
  {
   "cell_type": "code",
   "execution_count": null,
   "metadata": {},
   "outputs": [],
   "source": []
  }
 ],
 "metadata": {
  "kernelspec": {
   "display_name": "Python 3",
   "language": "python",
   "name": "python3"
  },
  "language_info": {
   "codemirror_mode": {
    "name": "ipython",
    "version": 3
   },
   "file_extension": ".py",
   "mimetype": "text/x-python",
   "name": "python",
   "nbconvert_exporter": "python",
   "pygments_lexer": "ipython3",
   "version": "3.6.5"
  }
 },
 "nbformat": 4,
 "nbformat_minor": 2
}
