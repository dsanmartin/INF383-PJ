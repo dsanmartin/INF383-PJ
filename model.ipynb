{
 "cells": [
  {
   "cell_type": "markdown",
   "metadata": {},
   "source": [
    "# Forest Fire Spreading \n",
    "\n",
    "\n",
    "## Background\n",
    "\n",
    "Wildfires are one of the most harmful phenomena in Chile burning thousands of forest hectares every year destroying significant flora and fauna, and affecting the air, water cycles, and the ecosystem. Wildfires start by varied reasons, ranging from reckless human behavior to extreme weather and environmental conditions\n",
    "\n",
    "## Main Goal\n",
    "\n",
    "Build a mathematical model based on SPDE qualitatively realistic with the phenomenon behaviour. \n",
    "\n",
    "## Objectives\n",
    "1. Start with an agent based model, working with the weather conditions and initial fires focus. \n",
    "2. Get a continuous model based on SPDE from the ABM.\n",
    "3. Assess wind relevance to the model."
   ]
  },
  {
   "cell_type": "code",
   "execution_count": 1,
   "metadata": {},
   "outputs": [],
   "source": [
    "import firemodels.cellularautomata as ca\n",
    "import firemodels.cellularautomatalayers as cal\n",
    "import firemodels.temperature as temp\n",
    "import numpy as np\n",
    "import matplotlib.pyplot as plt\n",
    "import ipywidgets as widgets\n",
    "import warnings\n",
    "warnings.filterwarnings('ignore')"
   ]
  },
  {
   "cell_type": "markdown",
   "metadata": {},
   "source": [
    "## Cellular Automata"
   ]
  },
  {
   "cell_type": "code",
   "execution_count": null,
   "metadata": {},
   "outputs": [],
   "source": [
    "def fireFocus(M, N, i, j, size):\n",
    "    focus = np.zeros((M, N))\n",
    "    focus[i-size:i+size, j-size:j+size] = np.ones((2*size, 2*size)) \n",
    "    return focus"
   ]
  },
  {
   "cell_type": "code",
   "execution_count": null,
   "metadata": {},
   "outputs": [],
   "source": [
    "def plotStates(t=0):\n",
    "    play = widgets.Play(\n",
    "        value=0,\n",
    "        min=0,\n",
    "        max=len(states)-1,\n",
    "        step=1,\n",
    "        description=\"Press play\",\n",
    "        disabled=False\n",
    "    )\n",
    "    slider = widgets.IntSlider()\n",
    "    widgets.jslink((play, 'value'), (slider, 'value'))\n",
    "    widgets.HBox([play, slider])\n",
    "    widgets.interact(automata.plotStates, t=play)"
   ]
  },
  {
   "cell_type": "code",
   "execution_count": null,
   "metadata": {},
   "outputs": [],
   "source": [
    "# Testing\n",
    "M = 101\n",
    "N = 101\n",
    "initial = fireFocus(M, N, 50, 50, 2)\n",
    "rule = .35\n",
    "#neighborhood = 'vonneumann'\n",
    "neighborhood = 'moore'\n",
    "times = 100"
   ]
  },
  {
   "cell_type": "code",
   "execution_count": null,
   "metadata": {},
   "outputs": [],
   "source": [
    "automata = ca.new(M, N, initial, rule, neighborhood)\n",
    "states = automata.propagate(times)"
   ]
  },
  {
   "cell_type": "code",
   "execution_count": null,
   "metadata": {},
   "outputs": [],
   "source": [
    "plotStates()"
   ]
  },
  {
   "cell_type": "markdown",
   "metadata": {},
   "source": [
    "# Cellular Automata with layers"
   ]
  },
  {
   "cell_type": "code",
   "execution_count": null,
   "metadata": {},
   "outputs": [],
   "source": [
    "temperature = np.load('data/temperature100x100.npy')\n",
    "wind_speed = np.load('data/wind_speed100x100.npy')\n",
    "humidity = np.load('data/humidity100x100.npy')\n",
    "pressure = np.load('data/pressure100x100.npy')"
   ]
  },
  {
   "cell_type": "code",
   "execution_count": null,
   "metadata": {},
   "outputs": [],
   "source": [
    "temperature = temperature / np.max(temperature)\n",
    "wind_speed = wind_speed / np.max(wind_speed)\n",
    "humidity = humidity / np.max(humidity)\n",
    "pressure = pressure / np.max(pressure)"
   ]
  },
  {
   "cell_type": "code",
   "execution_count": null,
   "metadata": {},
   "outputs": [],
   "source": [
    "# Testing\n",
    "(M, N) = temperature.shape\n",
    "wd = np.ones_like(temperature)*0\n",
    "world = [temperature, wind_speed, wd, humidity, pressure]\n",
    "initial = fireFocus(M, N, 50, 50, 2)\n",
    "#neighborhood = 'vonneumann'\n",
    "neighborhood = 'moore'\n",
    "alpha = .5\n",
    "beta = 1-alpha\n",
    "times = 200\n",
    "rule = .3"
   ]
  },
  {
   "cell_type": "code",
   "execution_count": null,
   "metadata": {
    "scrolled": false
   },
   "outputs": [],
   "source": [
    "automata = cal.new(initial, world, neighborhood, rule, alpha, beta)\n",
    "states = automata.propagate(times)"
   ]
  },
  {
   "cell_type": "code",
   "execution_count": null,
   "metadata": {},
   "outputs": [],
   "source": [
    "plotStates()"
   ]
  },
  {
   "cell_type": "markdown",
   "metadata": {},
   "source": [
    "* $BT$: Burning trees\n",
    "* $T$: Temperature"
   ]
  },
  {
   "cell_type": "markdown",
   "metadata": {
    "collapsed": true
   },
   "source": [
    "<!--\n",
    "\\begin{equation}\n",
    "    BT_{t+1} = BT_{t} + F(BT_t, T_t, W_t, T_t, P_T)\n",
    "\\end{equation}\n",
    "\\begin{equation}\n",
    "    T_{t+1} = F_t +  G(BT_t, T_t, W_t, T_t, P_T)\n",
    "\\end{equation}\n",
    "\\begin{equation}\n",
    "    W_{t+1} = W_t +  I( W_t)\n",
    "\\end{equation}\n",
    "-->"
   ]
  },
  {
   "cell_type": "markdown",
   "metadata": {},
   "source": [
    "## Temperature"
   ]
  },
  {
   "cell_type": "markdown",
   "metadata": {},
   "source": [
    "### Discrete\n",
    "\n",
    "\\begin{equation}\n",
    "    \\begin{split}\n",
    "        T_{i,j}^{k+1} & = T_{i,j}^k - \\frac45 T_{i,j}^k \n",
    "            + \\frac15\\left(T_{i-1,j}^k+T_{i+1,j}^k+T_{i,j-1}^k+T_{i,j+1}^k\\right) \\\\\n",
    "            & = \\frac15\\left(T_{i-1,j}^k+T_{i+1,j}^k+T_{i,j}^k+T_{i,j-1}^k+T_{i,j+1}^k\\right)\n",
    "    \\end{split}\n",
    "\\end{equation}"
   ]
  },
  {
   "cell_type": "code",
   "execution_count": 2,
   "metadata": {},
   "outputs": [],
   "source": [
    "def temperatureFocus(M, N):\n",
    "    x = np.linspace(0, 1, N)\n",
    "    y = np.linspace(0, 1, M)\n",
    "    X, Y = np.meshgrid(x, y)\n",
    "    return 1e3*np.exp(-1000*((X-.5)**2 + (Y-.5)**2))"
   ]
  },
  {
   "cell_type": "code",
   "execution_count": 3,
   "metadata": {},
   "outputs": [],
   "source": [
    "M, N = 100, 100\n",
    "initial = temperatureFocus(M, N)\n",
    "times = 100\n",
    "c = 1/5"
   ]
  },
  {
   "cell_type": "code",
   "execution_count": 4,
   "metadata": {},
   "outputs": [],
   "source": [
    "dte = temp.discrete(c, 0, times, initial)\n",
    "dtemps = dte.propagate()"
   ]
  },
  {
   "cell_type": "code",
   "execution_count": 5,
   "metadata": {},
   "outputs": [
    {
     "data": {
      "application/vnd.jupyter.widget-view+json": {
       "model_id": "36f10a724d5147288e4bf380e64c8776",
       "version_major": 2,
       "version_minor": 0
      },
      "text/html": [
       "<p>Failed to display Jupyter Widget of type <code>interactive</code>.</p>\n",
       "<p>\n",
       "  If you're reading this message in the Jupyter Notebook or JupyterLab Notebook, it may mean\n",
       "  that the widgets JavaScript is still loading. If this message persists, it\n",
       "  likely means that the widgets JavaScript library is either not installed or\n",
       "  not enabled. See the <a href=\"https://ipywidgets.readthedocs.io/en/stable/user_install.html\">Jupyter\n",
       "  Widgets Documentation</a> for setup instructions.\n",
       "</p>\n",
       "<p>\n",
       "  If you're reading this message in another frontend (for example, a static\n",
       "  rendering on GitHub or <a href=\"https://nbviewer.jupyter.org/\">NBViewer</a>),\n",
       "  it may mean that your frontend doesn't currently support widgets.\n",
       "</p>\n"
      ],
      "text/plain": [
       "interactive(children=(IntSlider(value=0, continuous_update=False, description='t', max=99), Output()), _dom_classes=('widget-interact',))"
      ]
     },
     "metadata": {},
     "output_type": "display_data"
    },
    {
     "data": {
      "text/plain": [
       "<function ipywidgets.widgets.interaction._InteractFactory.__call__.<locals>.<lambda>>"
      ]
     },
     "execution_count": 5,
     "metadata": {},
     "output_type": "execute_result"
    }
   ],
   "source": [
    "widgets.interact(dte.plotTemperatures, t=widgets.IntSlider(min=0, max=len(dtemps)-1, continuous_update=False),\n",
    "                 temperatures=widgets.fixed(dtemps))"
   ]
  },
  {
   "cell_type": "markdown",
   "metadata": {},
   "source": [
    "#### With Forest"
   ]
  },
  {
   "cell_type": "code",
   "execution_count": 6,
   "metadata": {},
   "outputs": [],
   "source": [
    "def temperatureFocus(M, N):\n",
    "    temperature = np.zeros((M,N))\n",
    "    A = np.zeros((M,N))\n",
    "    A[M//2, N//2] = 1\n",
    "    A[M//2+1, N//2] = 1\n",
    "    temperature = temperature + A * 600\n",
    "    return temperature, A"
   ]
  },
  {
   "cell_type": "code",
   "execution_count": 7,
   "metadata": {},
   "outputs": [],
   "source": [
    "def temperatureFocus2(M, N):\n",
    "    # Initial trees burning\n",
    "    tree = np.zeros((M,N))\n",
    "    tree[M//2, N//2] = 1\n",
    "    tree[M//2+1, N//2] = 1\n",
    "    # Initial temperature\n",
    "    #x = np.linspace(0, 1, N)\n",
    "    #y = np.linspace(0, 1, M)\n",
    "    #X, Y = np.meshgrid(x, y)\n",
    "    #temperatures = 1e3*np.exp(-1000*((X-.5)**2 + (Y-.5)**2))\n",
    "    temperature = np.zeros((M,N))\n",
    "    temperature = temperature + tree * 600\n",
    "    fuel = np.zeros((M,N))\n",
    "    radius = 10\n",
    "    cx, cy = M//2, N//2 # The center of circle\n",
    "    y, x = np.ogrid[-radius: radius, -radius: radius]\n",
    "    index = x**2 + y**2 <= radius**2\n",
    "    fuel[cy-radius:cy+radius, cx-radius:cx+radius][index] = 1\n",
    "    return temperature, tree, fuel"
   ]
  },
  {
   "cell_type": "code",
   "execution_count": 8,
   "metadata": {},
   "outputs": [],
   "source": [
    "M, N = 100, 100\n",
    "#initial, A = temperatureFocus(M, N)\n",
    "T0, A0, Y0 = temperatureFocus2(M, N)\n",
    "times = 300\n",
    "c = 1/5\n",
    "b = 8\n",
    "maxTemp = 1000"
   ]
  },
  {
   "cell_type": "code",
   "execution_count": 9,
   "metadata": {},
   "outputs": [],
   "source": [
    "dt2 = temp.discrete(c, 0, times, T0, A0, np.zeros_like(T0), None, b, maxTemp)"
   ]
  },
  {
   "cell_type": "code",
   "execution_count": 10,
   "metadata": {},
   "outputs": [],
   "source": [
    "dt2a_temps, dt2a_As, dt2a_fuels = dt2.propagate()"
   ]
  },
  {
   "cell_type": "code",
   "execution_count": 11,
   "metadata": {},
   "outputs": [
    {
     "data": {
      "application/vnd.jupyter.widget-view+json": {
       "model_id": "ee6e702a258642768165fcae2383d447",
       "version_major": 2,
       "version_minor": 0
      },
      "text/html": [
       "<p>Failed to display Jupyter Widget of type <code>interactive</code>.</p>\n",
       "<p>\n",
       "  If you're reading this message in the Jupyter Notebook or JupyterLab Notebook, it may mean\n",
       "  that the widgets JavaScript is still loading. If this message persists, it\n",
       "  likely means that the widgets JavaScript library is either not installed or\n",
       "  not enabled. See the <a href=\"https://ipywidgets.readthedocs.io/en/stable/user_install.html\">Jupyter\n",
       "  Widgets Documentation</a> for setup instructions.\n",
       "</p>\n",
       "<p>\n",
       "  If you're reading this message in another frontend (for example, a static\n",
       "  rendering on GitHub or <a href=\"https://nbviewer.jupyter.org/\">NBViewer</a>),\n",
       "  it may mean that your frontend doesn't currently support widgets.\n",
       "</p>\n"
      ],
      "text/plain": [
       "interactive(children=(IntSlider(value=0, continuous_update=False, description='t', max=299), Output()), _dom_classes=('widget-interact',))"
      ]
     },
     "metadata": {},
     "output_type": "display_data"
    },
    {
     "data": {
      "text/plain": [
       "<function ipywidgets.widgets.interaction._InteractFactory.__call__.<locals>.<lambda>>"
      ]
     },
     "execution_count": 11,
     "metadata": {},
     "output_type": "execute_result"
    }
   ],
   "source": [
    "widgets.interact(dt2.plotTemperatures, t=widgets.IntSlider(min=0, max=len(dt2a_temps)-1, \n",
    "    continuous_update=False), temperatures=widgets.fixed(dt2a_temps))"
   ]
  },
  {
   "cell_type": "markdown",
   "metadata": {},
   "source": [
    "#### Stochastic\n",
    "\n",
    "\\begin{equation}\n",
    "    T_{i,j}^{k+1} = T_{i,j}^{k} - 4 \\, c \\, T_{i,j}^{k} + (c + \\sigma_1 \\Delta  \\, Z^k_{i,j}) \\left(T_{i+1,j}^{k} + T_{i-1,j}^{k} + T_{i,j+1}^{k} + T_{i,j-1}^{k}\\right) + \\sigma_2 \\Delta W^k_{i,j}\n",
    "\\end{equation}"
   ]
  },
  {
   "cell_type": "markdown",
   "metadata": {},
   "source": [
    "#### Approach 1 $\\sigma_1=0$"
   ]
  },
  {
   "cell_type": "code",
   "execution_count": 12,
   "metadata": {},
   "outputs": [],
   "source": [
    "dt2b_temps, dt2b_A, _ = dt2.propagate(None, 5)"
   ]
  },
  {
   "cell_type": "code",
   "execution_count": 13,
   "metadata": {},
   "outputs": [
    {
     "data": {
      "application/vnd.jupyter.widget-view+json": {
       "model_id": "3b328e86701e43c584c0f5f58a254f72",
       "version_major": 2,
       "version_minor": 0
      },
      "text/html": [
       "<p>Failed to display Jupyter Widget of type <code>interactive</code>.</p>\n",
       "<p>\n",
       "  If you're reading this message in the Jupyter Notebook or JupyterLab Notebook, it may mean\n",
       "  that the widgets JavaScript is still loading. If this message persists, it\n",
       "  likely means that the widgets JavaScript library is either not installed or\n",
       "  not enabled. See the <a href=\"https://ipywidgets.readthedocs.io/en/stable/user_install.html\">Jupyter\n",
       "  Widgets Documentation</a> for setup instructions.\n",
       "</p>\n",
       "<p>\n",
       "  If you're reading this message in another frontend (for example, a static\n",
       "  rendering on GitHub or <a href=\"https://nbviewer.jupyter.org/\">NBViewer</a>),\n",
       "  it may mean that your frontend doesn't currently support widgets.\n",
       "</p>\n"
      ],
      "text/plain": [
       "interactive(children=(IntSlider(value=0, continuous_update=False, description='t', max=299), Output()), _dom_classes=('widget-interact',))"
      ]
     },
     "metadata": {},
     "output_type": "display_data"
    },
    {
     "data": {
      "text/plain": [
       "<function ipywidgets.widgets.interaction._InteractFactory.__call__.<locals>.<lambda>>"
      ]
     },
     "execution_count": 13,
     "metadata": {},
     "output_type": "execute_result"
    }
   ],
   "source": [
    "widgets.interact(dt2.plotTemperatures, t=widgets.IntSlider(min=0, max=len(dt2b_temps)-1, \n",
    "    continuous_update=False), temperatures=widgets.fixed(dt2b_temps))"
   ]
  },
  {
   "cell_type": "markdown",
   "metadata": {},
   "source": [
    "#### Approach 2 $\\sigma_1, \\sigma_2 \\neq 0$"
   ]
  },
  {
   "cell_type": "code",
   "execution_count": 16,
   "metadata": {},
   "outputs": [],
   "source": [
    "dt2c_temps, dt2c_A, _ = dt2.propagate(1/6, 1)"
   ]
  },
  {
   "cell_type": "code",
   "execution_count": 17,
   "metadata": {},
   "outputs": [
    {
     "data": {
      "application/vnd.jupyter.widget-view+json": {
       "model_id": "5401e8379aca4e6bb4ca861696c6fb6c",
       "version_major": 2,
       "version_minor": 0
      },
      "text/html": [
       "<p>Failed to display Jupyter Widget of type <code>interactive</code>.</p>\n",
       "<p>\n",
       "  If you're reading this message in the Jupyter Notebook or JupyterLab Notebook, it may mean\n",
       "  that the widgets JavaScript is still loading. If this message persists, it\n",
       "  likely means that the widgets JavaScript library is either not installed or\n",
       "  not enabled. See the <a href=\"https://ipywidgets.readthedocs.io/en/stable/user_install.html\">Jupyter\n",
       "  Widgets Documentation</a> for setup instructions.\n",
       "</p>\n",
       "<p>\n",
       "  If you're reading this message in another frontend (for example, a static\n",
       "  rendering on GitHub or <a href=\"https://nbviewer.jupyter.org/\">NBViewer</a>),\n",
       "  it may mean that your frontend doesn't currently support widgets.\n",
       "</p>\n"
      ],
      "text/plain": [
       "interactive(children=(IntSlider(value=0, continuous_update=False, description='t', max=299), Output()), _dom_classes=('widget-interact',))"
      ]
     },
     "metadata": {},
     "output_type": "display_data"
    },
    {
     "data": {
      "text/plain": [
       "<function ipywidgets.widgets.interaction._InteractFactory.__call__.<locals>.<lambda>>"
      ]
     },
     "execution_count": 17,
     "metadata": {},
     "output_type": "execute_result"
    }
   ],
   "source": [
    "widgets.interact(dt2.plotTemperatures, t=widgets.IntSlider(min=0, max=len(dt2c_temps)-1, \n",
    "    continuous_update=False), temperatures=widgets.fixed(dt2c_temps))"
   ]
  },
  {
   "cell_type": "markdown",
   "metadata": {},
   "source": [
    "#### Fuel added\n",
    "\n",
    "\\begin{equation}\n",
    "    \\begin{split}\n",
    "        T_{i,j}^{k+1} & = T_{i,j}^{k} - 4 \\, c \\, T_{i,j}^{k} + (c + \\sigma_1 \\Delta  \\, Z^k_{i,j}) \\left(T_{i+1,j}^{k} + T_{i-1,j}^{k} + T_{i,j+1}^{k} + T_{i,j-1}^{k}\\right) + \\sigma_2 \\Delta W^k_{i,j} + H\\, A^k_{i,j}\\,Y_{i,j}^k \\, Z  \\exp(E/T^k_{i,j}) \\\\\n",
    "        Y^{k+1}_{i,j} & = Y^k_{i,j} - \\,Y_{i,j}^k \\, Z  \\exp(E/T^k_{i,j})\n",
    "    \\end{split}\n",
    "\\end{equation}"
   ]
  },
  {
   "cell_type": "markdown",
   "metadata": {},
   "source": [
    "#### With Forest and Fuel $\\sigma_1=\\sigma_2=0$"
   ]
  },
  {
   "cell_type": "code",
   "execution_count": 18,
   "metadata": {},
   "outputs": [],
   "source": [
    "Ea = 1\n",
    "Z = .1\n",
    "H = 5500\n",
    "b = 8\n",
    "maxTemp = 1000\n",
    "dt3 = temp.discrete(c, 0, times, T0, A0, Y0, None, b, maxTemp, Ea, Z, H)\n",
    "dt3a_temps, dt3a_As, dt3a_fuel = dt3.propagate()#4/30, 20)"
   ]
  },
  {
   "cell_type": "code",
   "execution_count": 19,
   "metadata": {},
   "outputs": [
    {
     "data": {
      "application/vnd.jupyter.widget-view+json": {
       "model_id": "185e7ce3371144a6b388b2cba3e637f2",
       "version_major": 2,
       "version_minor": 0
      },
      "text/html": [
       "<p>Failed to display Jupyter Widget of type <code>interactive</code>.</p>\n",
       "<p>\n",
       "  If you're reading this message in the Jupyter Notebook or JupyterLab Notebook, it may mean\n",
       "  that the widgets JavaScript is still loading. If this message persists, it\n",
       "  likely means that the widgets JavaScript library is either not installed or\n",
       "  not enabled. See the <a href=\"https://ipywidgets.readthedocs.io/en/stable/user_install.html\">Jupyter\n",
       "  Widgets Documentation</a> for setup instructions.\n",
       "</p>\n",
       "<p>\n",
       "  If you're reading this message in another frontend (for example, a static\n",
       "  rendering on GitHub or <a href=\"https://nbviewer.jupyter.org/\">NBViewer</a>),\n",
       "  it may mean that your frontend doesn't currently support widgets.\n",
       "</p>\n"
      ],
      "text/plain": [
       "interactive(children=(IntSlider(value=0, continuous_update=False, description='t', max=299), Output()), _dom_classes=('widget-interact',))"
      ]
     },
     "metadata": {},
     "output_type": "display_data"
    },
    {
     "data": {
      "text/plain": [
       "<function ipywidgets.widgets.interaction._InteractFactory.__call__.<locals>.<lambda>>"
      ]
     },
     "execution_count": 19,
     "metadata": {},
     "output_type": "execute_result"
    }
   ],
   "source": [
    "widgets.interact(dt3.plotSimulation, t=widgets.IntSlider(min=0, max=len(dt3a_temps)-1, continuous_update=False), \n",
    "                 temperatures=widgets.fixed(dt3a_temps), fuels=widgets.fixed(dt3a_fuel), trees=widgets.fixed(dt3a_As))"
   ]
  },
  {
   "cell_type": "markdown",
   "metadata": {},
   "source": [
    "#### With Forest and Fuel Stochastic  $\\sigma_1, \\sigma_2 \\neq 0$"
   ]
  },
  {
   "cell_type": "code",
   "execution_count": 24,
   "metadata": {},
   "outputs": [],
   "source": [
    "dt3_2 = temp.discrete(c, 0, times, T0, A0, Y0, None, b, maxTemp, Ea*1e-5, Z, H)#temp.discrete(c, initial, times, A, b, maxTemp, Ea*1e-5, Z, H)\n",
    "dt3b_temps, dt3b_As, dt3b_fuel = dt3_2.propagate(1/10, 20)"
   ]
  },
  {
   "cell_type": "code",
   "execution_count": 25,
   "metadata": {},
   "outputs": [
    {
     "data": {
      "application/vnd.jupyter.widget-view+json": {
       "model_id": "8636ff243e18458ca093fc4de41fecb6",
       "version_major": 2,
       "version_minor": 0
      },
      "text/html": [
       "<p>Failed to display Jupyter Widget of type <code>interactive</code>.</p>\n",
       "<p>\n",
       "  If you're reading this message in the Jupyter Notebook or JupyterLab Notebook, it may mean\n",
       "  that the widgets JavaScript is still loading. If this message persists, it\n",
       "  likely means that the widgets JavaScript library is either not installed or\n",
       "  not enabled. See the <a href=\"https://ipywidgets.readthedocs.io/en/stable/user_install.html\">Jupyter\n",
       "  Widgets Documentation</a> for setup instructions.\n",
       "</p>\n",
       "<p>\n",
       "  If you're reading this message in another frontend (for example, a static\n",
       "  rendering on GitHub or <a href=\"https://nbviewer.jupyter.org/\">NBViewer</a>),\n",
       "  it may mean that your frontend doesn't currently support widgets.\n",
       "</p>\n"
      ],
      "text/plain": [
       "interactive(children=(IntSlider(value=0, continuous_update=False, description='t', max=299), Output()), _dom_classes=('widget-interact',))"
      ]
     },
     "metadata": {},
     "output_type": "display_data"
    },
    {
     "data": {
      "text/plain": [
       "<function ipywidgets.widgets.interaction._InteractFactory.__call__.<locals>.<lambda>>"
      ]
     },
     "execution_count": 25,
     "metadata": {},
     "output_type": "execute_result"
    }
   ],
   "source": [
    "widgets.interact(dt3.plotSimulation, t=widgets.IntSlider(min=0, max=len(dt3b_temps)-1, \n",
    "    continuous_update=False), temperatures=widgets.fixed(dt3b_temps), fuels=widgets.fixed(dt3b_fuel), trees=widgets.fixed(dt3b_As))"
   ]
  },
  {
   "cell_type": "markdown",
   "metadata": {},
   "source": [
    "#### With wind"
   ]
  },
  {
   "cell_type": "markdown",
   "metadata": {},
   "source": [
    "\\begin{equation}\n",
    "    \\begin{split}\n",
    "        T_{i,j}^{k+1} & = T_{i,j}^{k} - 4 \\, c \\, T_{i,j}^{k} + (c + \\sigma_1 \\Delta  \\, Z^k_{i,j}) \n",
    "            \\left(T_{i+1,j}^{k} + T_{i-1,j}^{k} + T_{i,j+1}^{k} + T_{i,j-1}^{k}\\right) \n",
    "            + \\gamma(V_x+V_y)+ \\sigma_2 \\Delta W^k_{i,j} + H\\, A^k_{i,j} \\,Y_{i,j}^k \\, Z  \\exp(-E/T^k_{i,j}) \\\\\n",
    "        Y^{k+1}_{i,j} & = Y^k_{i,j} - \\,Y_{i,j}^k \\, Z  \\exp(-E/T^k_{i,j})\n",
    "    \\end{split}\n",
    "\\end{equation}\n",
    "\n",
    "Where:\n",
    "\n",
    "$$V_x=\\begin{cases}-v_x(T_{i,j}^k - T_{i-1,j}^k) & \\textrm{if } v_x \\geq 0 \\\\-v_x(T_{i+1,j}^k - T_{i,j}^k) & \\textrm{otherwise}\\end{cases}$$\n",
    "\n",
    "$$V_y=\\begin{cases}-v_y(T_{i,j}^k - T_{i,j-1}^k) & \\textrm{if } v_y \\geq 0 \\\\-v_y(T_{i,j+1}^k - T_{i,j}^k) & \\textrm{otherwise}\\end{cases}$$"
   ]
  },
  {
   "cell_type": "code",
   "execution_count": 26,
   "metadata": {},
   "outputs": [],
   "source": [
    "gamma = 1\n",
    "V = (-.1, -.1)\n",
    "dtempv = temp.discrete(c, gamma, times, T0, A0, Y0, V, b, maxTemp, Ea*1e-3, Z, H) \n",
    "dtempvs, Asv, fuelsv = dtempv.propagate(1/13, 15)"
   ]
  },
  {
   "cell_type": "code",
   "execution_count": 27,
   "metadata": {},
   "outputs": [
    {
     "data": {
      "application/vnd.jupyter.widget-view+json": {
       "model_id": "22ce90d3bd31480c82dc121562afcdfa",
       "version_major": 2,
       "version_minor": 0
      },
      "text/html": [
       "<p>Failed to display Jupyter Widget of type <code>interactive</code>.</p>\n",
       "<p>\n",
       "  If you're reading this message in the Jupyter Notebook or JupyterLab Notebook, it may mean\n",
       "  that the widgets JavaScript is still loading. If this message persists, it\n",
       "  likely means that the widgets JavaScript library is either not installed or\n",
       "  not enabled. See the <a href=\"https://ipywidgets.readthedocs.io/en/stable/user_install.html\">Jupyter\n",
       "  Widgets Documentation</a> for setup instructions.\n",
       "</p>\n",
       "<p>\n",
       "  If you're reading this message in another frontend (for example, a static\n",
       "  rendering on GitHub or <a href=\"https://nbviewer.jupyter.org/\">NBViewer</a>),\n",
       "  it may mean that your frontend doesn't currently support widgets.\n",
       "</p>\n"
      ],
      "text/plain": [
       "interactive(children=(IntSlider(value=0, continuous_update=False, description='t', max=299), Output()), _dom_classes=('widget-interact',))"
      ]
     },
     "metadata": {},
     "output_type": "display_data"
    },
    {
     "data": {
      "text/plain": [
       "<function ipywidgets.widgets.interaction._InteractFactory.__call__.<locals>.<lambda>>"
      ]
     },
     "execution_count": 27,
     "metadata": {},
     "output_type": "execute_result"
    }
   ],
   "source": [
    "widgets.interact(dtempv.plotSimulation, t=widgets.IntSlider(min=0, max=len(dtempvs)-1, \n",
    "    continuous_update=False), temperatures=widgets.fixed(dtempvs), fuels=widgets.fixed(fuelsv), trees=widgets.fixed(Asv))"
   ]
  },
  {
   "cell_type": "markdown",
   "metadata": {},
   "source": [
    "### Continuous\n",
    "\n",
    "\\begin{equation}\n",
    "    \\partial T(i,j,k)= (c' \\, \\partial t + \\sigma_1' \\, \\partial Z_{i,j}(t))\\, \\Delta T(i,j,k) + \\sigma_2' \\,\\partial W_{i,j}(t)\n",
    "\\end{equation}"
   ]
  },
  {
   "cell_type": "markdown",
   "metadata": {},
   "source": [
    "#### With $\\sigma_1=\\sigma_2=0$"
   ]
  },
  {
   "cell_type": "code",
   "execution_count": null,
   "metadata": {},
   "outputs": [],
   "source": [
    "def temperatureCFocus(M, N):\n",
    "    x = np.linspace(0, 1, N)\n",
    "    y = np.linspace(0, 1, M)\n",
    "    X, Y = np.meshgrid(x, y)\n",
    "    return 1e3*np.exp(-1000*((X-.5)**2 + (Y-.5)**2))"
   ]
  },
  {
   "cell_type": "code",
   "execution_count": null,
   "metadata": {},
   "outputs": [],
   "source": [
    "M, N = 50, 50  \n",
    "\n",
    "initial, A = temperatureFocus(M, N)\n",
    "\n",
    "# Parameters\n",
    "mu = 1/5 \n",
    "T = 1000\n",
    "dt = 1e-4\n",
    "b = 8\n",
    "maxTemp = 1000"
   ]
  },
  {
   "cell_type": "code",
   "execution_count": null,
   "metadata": {},
   "outputs": [],
   "source": [
    "ct = temp.continuous(initial, mu, dt, T, b, maxTemp, A=A)\n",
    "cta, Aa, Wa = ct.solvePDE()"
   ]
  },
  {
   "cell_type": "code",
   "execution_count": null,
   "metadata": {},
   "outputs": [],
   "source": [
    "widgets.interact(ct.plotTemperatures, t=widgets.IntSlider(min=0, max=len(cta)-1), \n",
    "                 temperatures=widgets.fixed(cta))"
   ]
  },
  {
   "cell_type": "markdown",
   "metadata": {
    "collapsed": true
   },
   "source": [
    "#### Approach 1 $\\sigma_1\\neq 0$"
   ]
  },
  {
   "cell_type": "code",
   "execution_count": null,
   "metadata": {},
   "outputs": [],
   "source": [
    "ctb, Ab, Wb = ct.solvePDE(1/3)"
   ]
  },
  {
   "cell_type": "code",
   "execution_count": null,
   "metadata": {},
   "outputs": [],
   "source": [
    "widgets.interact(ct.plotTemperatures, t=widgets.IntSlider(min=0, max=len(ctb)-1), \n",
    "                 temperatures=widgets.fixed(ctb))"
   ]
  },
  {
   "cell_type": "markdown",
   "metadata": {},
   "source": [
    "#### Approach 1 $\\sigma_1,\\sigma_2\\neq 0$"
   ]
  },
  {
   "cell_type": "code",
   "execution_count": null,
   "metadata": {},
   "outputs": [],
   "source": [
    "ctc, Ac, Wc = ct.solvePDE(1/8, 2000)"
   ]
  },
  {
   "cell_type": "code",
   "execution_count": null,
   "metadata": {},
   "outputs": [],
   "source": [
    "widgets.interact(ct.plotTemperatures, t=widgets.IntSlider(min=0, max=len(ctc)-1), \n",
    "                 temperatures=widgets.fixed(ctc))"
   ]
  },
  {
   "cell_type": "code",
   "execution_count": null,
   "metadata": {},
   "outputs": [],
   "source": []
  }
 ],
 "metadata": {
  "kernelspec": {
   "display_name": "Python 3",
   "language": "python",
   "name": "python3"
  },
  "language_info": {
   "codemirror_mode": {
    "name": "ipython",
    "version": 3
   },
   "file_extension": ".py",
   "mimetype": "text/x-python",
   "name": "python",
   "nbconvert_exporter": "python",
   "pygments_lexer": "ipython3",
   "version": "3.6.4"
  }
 },
 "nbformat": 4,
 "nbformat_minor": 2
}
