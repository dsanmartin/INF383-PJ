{
 "cells": [
  {
   "cell_type": "markdown",
   "metadata": {},
   "source": [
    "# Forest Fire Spreading \n",
    "\n",
    "\n",
    "## Background\n",
    "\n",
    "Wildfires are one of the most harmful phenomena in Chile burning thousands of forest hectares every year destroying significant flora and fauna, and affecting the air, water cycles, and the ecosystem. Wildfires start by varied reasons, ranging from reckless human behavior to extreme weather and environmental conditions\n",
    "\n",
    "## Main Goal\n",
    "\n",
    "Build a mathematical model based on SPDE qualitatively realistic with the phenomenon behaviour. \n",
    "\n",
    "## Objectives\n",
    "1. Start with an agent based model, working with the weather conditions and initial fires focus. \n",
    "2. Get a continuous model based on SPDE from the ABM.\n",
    "3. Assess wind relevance to the model."
   ]
  },
  {
   "cell_type": "markdown",
   "metadata": {},
   "source": [
    "## Cellular Automata"
   ]
  },
  {
   "cell_type": "code",
   "execution_count": 1,
   "metadata": {
    "collapsed": true
   },
   "outputs": [],
   "source": [
    "import firemodels.cellularautomata as ca\n",
    "import firemodels.cellularautomatalayers as cal\n",
    "import firemodels.discrete.temperature as dtemp\n",
    "import firemodels.continuous.temperature as ctemp\n",
    "import numpy as np\n",
    "import matplotlib.pyplot as plt\n",
    "import ipywidgets as widgets\n",
    "from sklearn.preprocessing import MinMaxScaler"
   ]
  },
  {
   "cell_type": "code",
   "execution_count": null,
   "metadata": {
    "collapsed": true
   },
   "outputs": [],
   "source": [
    "def fireFocus(M, N, i, j, size):\n",
    "    focus = np.zeros((M, N))\n",
    "    focus[i-size:i+size, j-size:j+size] = np.ones((2*size, 2*size)) \n",
    "    return focus"
   ]
  },
  {
   "cell_type": "code",
   "execution_count": null,
   "metadata": {
    "collapsed": true
   },
   "outputs": [],
   "source": [
    "def plotStates(t=0):\n",
    "    play = widgets.Play(\n",
    "        value=0,\n",
    "        min=0,\n",
    "        max=len(states)-1,\n",
    "        step=1,\n",
    "        description=\"Press play\",\n",
    "        disabled=False\n",
    "    )\n",
    "    slider = widgets.IntSlider()\n",
    "    widgets.jslink((play, 'value'), (slider, 'value'))\n",
    "    widgets.HBox([play, slider])\n",
    "    widgets.interact(automata.plotStates, t=play)"
   ]
  },
  {
   "cell_type": "code",
   "execution_count": null,
   "metadata": {
    "collapsed": true
   },
   "outputs": [],
   "source": [
    "# Testing\n",
    "M = 101\n",
    "N = 101\n",
    "initial = fireFocus(M, N, 50, 50, 2)\n",
    "rule = .35\n",
    "#neighborhood = 'vonneumann'\n",
    "neighborhood = 'moore'\n",
    "times = 100"
   ]
  },
  {
   "cell_type": "code",
   "execution_count": null,
   "metadata": {
    "collapsed": true
   },
   "outputs": [],
   "source": [
    "automata = ca.new(M, N, initial, rule, neighborhood)\n",
    "states = automata.propagate(times)"
   ]
  },
  {
   "cell_type": "code",
   "execution_count": null,
   "metadata": {
    "collapsed": true
   },
   "outputs": [],
   "source": [
    "plotStates()"
   ]
  },
  {
   "cell_type": "markdown",
   "metadata": {},
   "source": [
    "# Cellular Automata with layers"
   ]
  },
  {
   "cell_type": "code",
   "execution_count": null,
   "metadata": {
    "collapsed": true
   },
   "outputs": [],
   "source": [
    "temperature = np.load('data/temperature100x100.npy')\n",
    "wind_speed = np.load('data/wind_speed100x100.npy')\n",
    "humidity = np.load('data/humidity100x100.npy')\n",
    "pressure = np.load('data/pressure100x100.npy')"
   ]
  },
  {
   "cell_type": "code",
   "execution_count": null,
   "metadata": {
    "collapsed": true
   },
   "outputs": [],
   "source": [
    "temperature = temperature / np.max(temperature)\n",
    "wind_speed = wind_speed / np.max(wind_speed)\n",
    "humidity = humidity / np.max(humidity)\n",
    "pressure = pressure / np.max(pressure)"
   ]
  },
  {
   "cell_type": "code",
   "execution_count": null,
   "metadata": {
    "collapsed": true
   },
   "outputs": [],
   "source": [
    "# Testing\n",
    "(M, N) = temperature.shape\n",
    "wd = np.ones_like(temperature)*0\n",
    "world = [temperature, wind_speed, wd, humidity, pressure]\n",
    "initial = fireFocus(M, N, 50, 50, 2)\n",
    "#neighborhood = 'vonneumann'\n",
    "neighborhood = 'moore'\n",
    "alpha = .5\n",
    "beta = 1-alpha\n",
    "times = 200\n",
    "rule = .3"
   ]
  },
  {
   "cell_type": "code",
   "execution_count": null,
   "metadata": {
    "collapsed": true,
    "scrolled": false
   },
   "outputs": [],
   "source": [
    "automata = cal.new(initial, world, neighborhood, rule, alpha, beta)\n",
    "states = automata.propagate(times)"
   ]
  },
  {
   "cell_type": "code",
   "execution_count": null,
   "metadata": {
    "collapsed": true
   },
   "outputs": [],
   "source": [
    "plotStates()"
   ]
  },
  {
   "cell_type": "markdown",
   "metadata": {},
   "source": [
    "* $BT$: Burning trees\n",
    "* $T$: Temperature"
   ]
  },
  {
   "cell_type": "markdown",
   "metadata": {
    "collapsed": true
   },
   "source": [
    "\\begin{equation}\n",
    "    BT_{t+1} = BT_{t} + F(BT_t, T_t, W_t, T_t, P_T)\n",
    "\\end{equation}\n",
    "\\begin{equation}\n",
    "    T_{t+1} = F_t +  G(BT_t, T_t, W_t, T_t, P_T)\n",
    "\\end{equation}\n",
    "\\begin{equation}\n",
    "    W_{t+1} = W_t +  I( W_t)\n",
    "\\end{equation}"
   ]
  },
  {
   "cell_type": "markdown",
   "metadata": {},
   "source": [
    "## Temperature"
   ]
  },
  {
   "cell_type": "markdown",
   "metadata": {},
   "source": [
    "### Discrete\n",
    "\n",
    "\\begin{equation}\n",
    "    \\begin{split}\n",
    "        T_{i,j}^{k+1} & = T_{i,j}^k - \\frac45 T_{i,j}^k \n",
    "            + \\frac15\\left(T_{i-1,j}^k+T_{i+1,j}^k+T_{i,j-1}^k+T_{i,j+1}^k\\right) \\\\\n",
    "            & = \\frac15\\left(T_{i-1,j}^k+T_{i+1,j}^k+T_{i,j}^k+T_{i,j-1}^k+T_{i,j+1}^k\\right)\n",
    "    \\end{split}\n",
    "\\end{equation}"
   ]
  },
  {
   "cell_type": "code",
   "execution_count": 2,
   "metadata": {
    "collapsed": true
   },
   "outputs": [],
   "source": [
    "def temperatureFocus(M, N):\n",
    "    x = np.linspace(0, 1, N)\n",
    "    y = np.linspace(0, 1, M)\n",
    "    X, Y = np.meshgrid(x, y)\n",
    "    return 1e3*np.exp(-1000*((X-.5)**2 + (Y-.5)**2))"
   ]
  },
  {
   "cell_type": "code",
   "execution_count": null,
   "metadata": {
    "collapsed": true
   },
   "outputs": [],
   "source": [
    "def plotTemperatures(model, t=0):\n",
    "    play = widgets.Play(\n",
    "        value=0,\n",
    "        min=0,\n",
    "        max=len(dtemps)-1,\n",
    "        step=1,\n",
    "        description=\"Press play\",\n",
    "        disabled=False\n",
    "    )\n",
    "    slider = widgets.IntSlider()\n",
    "    widgets.jslink((play, 'value'), (slider, 'value'))\n",
    "    widgets.HBox([play, slider])\n",
    "    widgets.interact(model.plotTemperatures, t=play)"
   ]
  },
  {
   "cell_type": "code",
   "execution_count": null,
   "metadata": {
    "collapsed": true
   },
   "outputs": [],
   "source": [
    "M, N = 100, 100\n",
    "times = 100\n",
    "initial = temperatureFocus(M, N)\n",
    "sigma = 0#1/30"
   ]
  },
  {
   "cell_type": "code",
   "execution_count": null,
   "metadata": {
    "collapsed": true
   },
   "outputs": [],
   "source": [
    "dte = dtemp.new(initial, sigma)\n",
    "dtemps = dte.propagate(times)"
   ]
  },
  {
   "cell_type": "code",
   "execution_count": null,
   "metadata": {},
   "outputs": [],
   "source": [
    "plotTemperatures(dte)"
   ]
  },
  {
   "cell_type": "markdown",
   "metadata": {},
   "source": [
    "### Continuous\n",
    "\n",
    "\\begin{equation}\n",
    "    \\frac{\\partial T}{\\partial t} = \\mu\\Delta T\n",
    "\\end{equation}"
   ]
  },
  {
   "cell_type": "code",
   "execution_count": 15,
   "metadata": {
    "collapsed": true
   },
   "outputs": [],
   "source": [
    "def plotCTemperatures(temperatures, t=0):\n",
    "    play = widgets.Play(\n",
    "        value=0,\n",
    "        min=0,\n",
    "        max=len(temperatures)-1,\n",
    "        step=1,\n",
    "        description=\"Press play\",\n",
    "        disabled=False\n",
    "    )\n",
    "    slider = widgets.IntSlider()\n",
    "    widgets.jslink((play, 'value'), (slider, 'value'))\n",
    "    widgets.HBox([play, slider])\n",
    "    widgets.interact(ct.plotTemperatures, t=play, temperatures=widgets.fixed(temperatures))"
   ]
  },
  {
   "cell_type": "code",
   "execution_count": 16,
   "metadata": {},
   "outputs": [],
   "source": [
    "# The resolution have to be lower than discrete version for computation of F\n",
    "M, N = 50, 50  \n",
    "\n",
    "# Initial conditions\n",
    "c_in = temperatureFocus(M, N)\n",
    "\n",
    "# Parameters\n",
    "mu = 1/5 \n",
    "T = 100\n",
    "dt = 1e-3"
   ]
  },
  {
   "cell_type": "code",
   "execution_count": 17,
   "metadata": {},
   "outputs": [],
   "source": [
    "# We have to include border conditions, for now only \n",
    "# use dirichlet f(x,y) = u(x,y) for (x,y) \\in \\partial\\Omega\n",
    "ct = ctemp.new(c_in, mu, dt, T)\n",
    "pde_temp = ct.solvePDE()"
   ]
  },
  {
   "cell_type": "code",
   "execution_count": 18,
   "metadata": {},
   "outputs": [
    {
     "data": {
      "application/vnd.jupyter.widget-view+json": {
       "model_id": "3818f6552a824372a91e3a089212f358",
       "version_major": 2,
       "version_minor": 0
      },
      "text/html": [
       "<p>Failed to display Jupyter Widget of type <code>interactive</code>.</p>\n",
       "<p>\n",
       "  If you're reading this message in Jupyter Notebook or JupyterLab, it may mean\n",
       "  that the widgets JavaScript is still loading. If this message persists, it\n",
       "  likely means that the widgets JavaScript library is either not installed or\n",
       "  not enabled. See the <a href=\"https://ipywidgets.readthedocs.io/en/stable/user_install.html\">Jupyter\n",
       "  Widgets Documentation</a> for setup instructions.\n",
       "</p>\n",
       "<p>\n",
       "  If you're reading this message in another notebook frontend (for example, a static\n",
       "  rendering on GitHub or <a href=\"https://nbviewer.jupyter.org/\">NBViewer</a>),\n",
       "  it may mean that your frontend doesn't currently support widgets.\n",
       "</p>\n"
      ],
      "text/plain": [
       "interactive(children=(Play(value=0, description='Press play', max=99), Output()), _dom_classes=('widget-interact',))"
      ]
     },
     "metadata": {},
     "output_type": "display_data"
    }
   ],
   "source": [
    "plotCTemperatures(pde_temp)"
   ]
  },
  {
   "cell_type": "markdown",
   "metadata": {
    "collapsed": true
   },
   "source": [
    "### Stochastic Approach 1"
   ]
  },
  {
   "cell_type": "code",
   "execution_count": 19,
   "metadata": {},
   "outputs": [],
   "source": [
    "spde1_temps = ct.solveSPDE1()"
   ]
  },
  {
   "cell_type": "code",
   "execution_count": 20,
   "metadata": {},
   "outputs": [
    {
     "data": {
      "application/vnd.jupyter.widget-view+json": {
       "model_id": "71ee93e094ff47f9b9d62598f47aa9a0",
       "version_major": 2,
       "version_minor": 0
      },
      "text/html": [
       "<p>Failed to display Jupyter Widget of type <code>interactive</code>.</p>\n",
       "<p>\n",
       "  If you're reading this message in Jupyter Notebook or JupyterLab, it may mean\n",
       "  that the widgets JavaScript is still loading. If this message persists, it\n",
       "  likely means that the widgets JavaScript library is either not installed or\n",
       "  not enabled. See the <a href=\"https://ipywidgets.readthedocs.io/en/stable/user_install.html\">Jupyter\n",
       "  Widgets Documentation</a> for setup instructions.\n",
       "</p>\n",
       "<p>\n",
       "  If you're reading this message in another notebook frontend (for example, a static\n",
       "  rendering on GitHub or <a href=\"https://nbviewer.jupyter.org/\">NBViewer</a>),\n",
       "  it may mean that your frontend doesn't currently support widgets.\n",
       "</p>\n"
      ],
      "text/plain": [
       "interactive(children=(Play(value=0, description='Press play'), Output()), _dom_classes=('widget-interact',))"
      ]
     },
     "metadata": {},
     "output_type": "display_data"
    }
   ],
   "source": [
    "plotCTemperatures(spde1_temps)"
   ]
  },
  {
   "cell_type": "code",
   "execution_count": 21,
   "metadata": {
    "collapsed": true
   },
   "outputs": [],
   "source": [
    "spde2_temps = ct.solveSPDE2()"
   ]
  },
  {
   "cell_type": "code",
   "execution_count": 22,
   "metadata": {},
   "outputs": [
    {
     "data": {
      "application/vnd.jupyter.widget-view+json": {
       "model_id": "81c68cebadf54c0381b908ecb3ab672f",
       "version_major": 2,
       "version_minor": 0
      },
      "text/html": [
       "<p>Failed to display Jupyter Widget of type <code>interactive</code>.</p>\n",
       "<p>\n",
       "  If you're reading this message in Jupyter Notebook or JupyterLab, it may mean\n",
       "  that the widgets JavaScript is still loading. If this message persists, it\n",
       "  likely means that the widgets JavaScript library is either not installed or\n",
       "  not enabled. See the <a href=\"https://ipywidgets.readthedocs.io/en/stable/user_install.html\">Jupyter\n",
       "  Widgets Documentation</a> for setup instructions.\n",
       "</p>\n",
       "<p>\n",
       "  If you're reading this message in another notebook frontend (for example, a static\n",
       "  rendering on GitHub or <a href=\"https://nbviewer.jupyter.org/\">NBViewer</a>),\n",
       "  it may mean that your frontend doesn't currently support widgets.\n",
       "</p>\n"
      ],
      "text/plain": [
       "interactive(children=(Play(value=0, description='Press play'), Output()), _dom_classes=('widget-interact',))"
      ]
     },
     "metadata": {},
     "output_type": "display_data"
    }
   ],
   "source": [
    "plotCTemperatures(spde2_temps)"
   ]
  },
  {
   "cell_type": "code",
   "execution_count": null,
   "metadata": {
    "collapsed": true
   },
   "outputs": [],
   "source": []
  }
 ],
 "metadata": {
  "kernelspec": {
   "display_name": "Python 3",
   "language": "python",
   "name": "python3"
  },
  "language_info": {
   "codemirror_mode": {
    "name": "ipython",
    "version": 3
   },
   "file_extension": ".py",
   "mimetype": "text/x-python",
   "name": "python",
   "nbconvert_exporter": "python",
   "pygments_lexer": "ipython3",
   "version": "3.6.2"
  }
 },
 "nbformat": 4,
 "nbformat_minor": 2
}
